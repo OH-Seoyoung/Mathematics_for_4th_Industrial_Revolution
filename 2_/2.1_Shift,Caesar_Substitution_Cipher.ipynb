{
 "cells": [
  {
   "cell_type": "markdown",
   "metadata": {},
   "source": [
    "### 1. Shift/Caesar Cipher (시프트암호)\n",
    "- 암호화 key K가 가능한 값이 0 ~ 25 -> 모든 가능한 키에 대해 복호화를 해서 실제 쓰이는 영어 단어가 나오는지 확인"
   ]
  },
  {
   "cell_type": "code",
   "execution_count": 2,
   "metadata": {},
   "outputs": [
    {
     "name": "stdout",
     "output_type": "stream",
     "text": [
      "HELLO\n",
      "FCJJM\n",
      "0 FCJJM\n",
      "1 EBIIL\n",
      "2 DAHHK\n",
      "3 CZGGJ\n",
      "4 BYFFI\n",
      "5 AXEEH\n",
      "6 ZWDDG\n",
      "7 YVCCF\n",
      "8 XUBBE\n",
      "9 WTAAD\n",
      "10 VSZZC\n",
      "11 URYYB\n",
      "12 TQXXA\n",
      "13 SPWWZ\n",
      "14 ROVVY\n",
      "15 QNUUX\n",
      "16 PMTTW\n",
      "17 OLSSV\n",
      "18 NKRRU\n",
      "19 MJQQT\n",
      "20 LIPPS\n",
      "21 KHOOR\n",
      "22 JGNNQ\n",
      "23 IFMMP\n",
      "24 HELLO\n",
      "25 GDKKN\n"
     ]
    }
   ],
   "source": [
    "S = ShiftCryptosystem(AlphabeticStrings())  # 알파벳 대문자만을 암호와 평문에 사용하는 시프트 암호시스템 S 설정\n",
    "P = S.encoding(\"Hello!\")  # 일반적인 문장을 암호화할 수 있는 평문으로 만듦\n",
    "# 알파벳 대문자만으로 이뤄진 문장도 일단 S.encoding()을 거쳐야함\n",
    "\n",
    "print(P)\n",
    "\n",
    "\n",
    "K = S.random_key()  # K : arbitrary key (0~25 integer)\n",
    "C=S.enciphering(K, P)  # 평문 P를 암호화 키 K를 이용하여 암호화\n",
    "print(C)\n",
    "\n",
    "\n",
    "for K in range(26):\n",
    "    P = S.deciphering(K, C)  # 복호화 명령\n",
    "    print (K, P)"
   ]
  },
  {
   "cell_type": "markdown",
   "metadata": {},
   "source": [
    "### 2. Substitution Cipher (대치암호)\n",
    "- 가령 K = SHTAUXIZRNEJQWMPBCLKVFDOYG 라면 차례대로 A를 S로 B를 H로 C를 T로 바꿔준다는 의미\n",
    "- 모든 키들의 경우(26*25*...*1)를 다 확인해 볼 수 없으므로, 일단 각 알파벳의 빈도를 계산하는 예제\n",
    "- 실제 영어 문장에서 자주 쓰이는 알파벳 빈도와 비교하여 몇 개의 알파벳을 파악하고,  \n",
    "연속해서 자주 나오는 알파벳 두 글자의 빈도 등을 비교하여 해독을 완성"
   ]
  },
  {
   "cell_type": "code",
   "execution_count": 5,
   "metadata": {},
   "outputs": [
    {
     "name": "stdout",
     "output_type": "stream",
     "text": [
      "GQNMHVXWZUYRJTFDLSOBPIKACE\n",
      "A 0.0\n",
      "B 0.09126984126984126\n",
      "C 0.023809523809523808\n",
      "D 0.0248015873015873\n",
      "E 0.0\n",
      "F 0.07341269841269842\n",
      "G 0.09126984126984126\n",
      "H 0.10119047619047619\n",
      "I 0.00496031746031746\n",
      "J 0.03273809523809524\n",
      "K 0.010912698412698412\n",
      "L 0.001984126984126984\n",
      "M 0.03571428571428571\n",
      "N 0.0248015873015873\n",
      "O 0.06448412698412699\n",
      "P 0.02976190476190476\n",
      "Q 0.022817460317460316\n",
      "R 0.04861111111111111\n",
      "S 0.06349206349206349\n",
      "T 0.07341269841269842\n",
      "U 0.000992063492063492\n",
      "V 0.013888888888888888\n",
      "W 0.044642857142857144\n",
      "X 0.026785714285714284\n",
      "Y 0.007936507936507936\n",
      "Z 0.08630952380952381\n"
     ]
    }
   ],
   "source": [
    "S = SubstitutionCryptosystem(AlphabeticStrings())  # 알파벳 대문자만을 암호와 평문에 사용하는 대치 암호시스템 S 설정\n",
    "K = S.random_key()  # K : arbitrary key\n",
    "\n",
    "M = S.encoding('It is highly probable that Mr. Millionaire Bluggs possesses no ready\\\n",
    "cash whatever, though he is prepared to discuss five-million dollar\\\n",
    "propositions in the loudest tones and in any quantity, and it is\\\n",
    "probable, too, that Miss Bluggs is neither a blonde nor a brunette that\\\n",
    "matters, but an ordinary good strong country girl whose principal diet is\\\n",
    "pumpkin pie and chewing gum, and whose single go-to-party gown was bought\\\n",
    "in Paris truly but fell to the lot of Miss Mamie Bluggs at third hand and\\\n",
    "at bed-rock bargain-day price, at the corner store in Squedunk, Wis.\\\n",
    "I have no desire to suggest that the millionaires of America as a body\\\n",
    "are in straitened or difficult circumstances, or that an American here\\\n",
    "and there has not succeeded in amassing vast sums of money. But I assert\\\n",
    "flatly that the great majority of them are not within a mile of being\\\n",
    "anything like so rich as they pretend to be, and that, taking millionaire\\\n",
    "for millionaire, they are an entirely Brummagem and specious company.\\\n",
    "They maintain all the appearances of riches, not on solid bullion or\\\n",
    "property, but on a little paper. They come like water and like wind they\\\n",
    "go. Since millionairedom became fashionable, New York State alone must\\\n",
    "have produced, literally, thousands of them.')\n",
    "\n",
    "C = S.enciphering(K, M)\n",
    "C = str(C)\n",
    "print(K)\n",
    "\n",
    "A=['A','B','C','D','E','F','G','H','I','J','K','L', 'M', \\\n",
    "   'N','O','P','Q','R','S','T','U','V','W','X','Y','Z']\n",
    "\n",
    "for i in range(0,26): \n",
    "    print(A[i], float(C.count(A[i]))/len(C))"
   ]
  },
  {
   "cell_type": "code",
   "execution_count": 6,
   "metadata": {},
   "outputs": [
    {
     "data": {
      "text/plain": [
       "4.03291461126606e26"
      ]
     },
     "execution_count": 6,
     "metadata": {},
     "output_type": "execute_result"
    }
   ],
   "source": [
    "n(factorial(26))\n",
    "# 26!이 대략 4.03*10^26"
   ]
  }
 ],
 "metadata": {
  "kernelspec": {
   "display_name": "SageMath 9.1",
   "language": "sage",
   "name": "sagemath"
  },
  "language_info": {
   "codemirror_mode": {
    "name": "ipython",
    "version": 3
   },
   "file_extension": ".py",
   "mimetype": "text/x-python",
   "name": "python",
   "nbconvert_exporter": "python",
   "pygments_lexer": "ipython3",
   "version": "3.7.3"
  }
 },
 "nbformat": 4,
 "nbformat_minor": 2
}
