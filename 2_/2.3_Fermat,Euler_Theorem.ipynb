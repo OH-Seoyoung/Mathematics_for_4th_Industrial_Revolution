{
 "cells": [
  {
   "cell_type": "markdown",
   "metadata": {},
   "source": [
    "### 1. phi(n)값을 알 때, n 소인수분해하기\n",
    "- phi(n) = (p-1)(q-1) 값을 알 때, 근의 공식을 이용하여 n을 소인수분해"
   ]
  },
  {
   "cell_type": "code",
   "execution_count": 1,
   "metadata": {},
   "outputs": [
    {
     "data": {
      "text/plain": [
       "[7, 5]"
      ]
     },
     "execution_count": 1,
     "metadata": {},
     "output_type": "execute_result"
    }
   ],
   "source": [
    "def crack(n, phi_n):\n",
    "    a = n-phi_n+1\n",
    "    return [(a+sqrt(a^2-4*n))/2, (a-sqrt(a^2-4*n))/2]\n",
    "\n",
    "crack(35, 24)"
   ]
  },
  {
   "cell_type": "markdown",
   "metadata": {},
   "source": [
    "### 2. p, q가 가까울때, n 소인수분해하기\n",
    "- p, q가 가까운 두 소수일 때, n 소인수분해하기 (쉬움 -> 암호문도 바로 해독가능합니다.)\n",
    "- 보통 (이진법) 150자리 두 소수의 곱은 소인수분해가 매우 오래 걸리지만, 두 소수의 차이가 작은 경우 아래와 같이 쉽게 소인수분해 됨"
   ]
  },
  {
   "cell_type": "code",
   "execution_count": 2,
   "metadata": {},
   "outputs": [
    {
     "data": {
      "text/plain": [
       "(1427247692705959881058285969449495136382746787,\n",
       " 1427247692705959881058285969449495136382746771)"
      ]
     },
     "execution_count": 2,
     "metadata": {},
     "output_type": "execute_result"
    }
   ],
   "source": [
    "def crack2(n):\n",
    "    t = ceil(sqrt(n))  ## ceil() : 올림함수, ceil(1.1) = 2\n",
    "    while True:\n",
    "        if t^2-n>0 and is_square(t^2-n):\n",
    "            return t+sqrt(t^2-n), t-sqrt(t^2-n)\n",
    "        t+=1\n",
    "\n",
    "p = next_prime(2^150)\n",
    "q = next_prime(p)\n",
    "crack2(p*q)"
   ]
  },
  {
   "cell_type": "markdown",
   "metadata": {},
   "source": [
    "### 3. Euler Theorem\n",
    "- n 값과 양의 공약수가 1뿐인 a 값들에 대해, a^i 제곱을 n으로 나눈 나머지\n",
    "- 여러 a값들의 경우에 대해 몇 제곱일때 동시에 나머지가 1이 되는지 관찰"
   ]
  },
  {
   "cell_type": "code",
   "execution_count": 4,
   "metadata": {},
   "outputs": [
    {
     "name": "stdout",
     "output_type": "stream",
     "text": [
      "[1, 1, 1, 1, 1, 1, 1, 1]\n",
      "[2, 4, 8, 7, 5, 1, 2, 4]\n",
      "[4, 7, 1, 4, 7, 1, 4, 7]\n",
      "[5, 7, 8, 4, 2, 1, 5, 7]\n",
      "[7, 4, 1, 7, 4, 1, 7, 4]\n",
      "[8, 1, 8, 1, 8, 1, 8, 1]\n"
     ]
    }
   ],
   "source": [
    "n=9\n",
    "for a in range(1, n):\n",
    "    if gcd(n, a)==1:\n",
    "        print([Mod(a,n)^i for i in range(1, n)])"
   ]
  },
  {
   "cell_type": "markdown",
   "metadata": {},
   "source": [
    "### 4. 소인수분해 시간과 Fermat Theorem을 이용한 소수 판정 시간 비교\n",
    "- 두번째 방법 : 페르마 정리를 이용한 판정법이고\n",
    "- 세번째 방법 : SAGE에 내장된 소수판정법입니다.\n",
    "(ms는 1,000분의 1초, µs는 1,000,000분의 1초)"
   ]
  },
  {
   "cell_type": "code",
   "execution_count": 5,
   "metadata": {},
   "outputs": [
    {
     "name": "stdout",
     "output_type": "stream",
     "text": [
      "CPU times: user 516 ms, sys: 109 ms, total: 625 ms\n",
      "Wall time: 1.38 s\n",
      "CPU times: user 0 ns, sys: 0 ns, total: 0 ns\n",
      "Wall time: 324 µs\n",
      "CPU times: user 0 ns, sys: 0 ns, total: 0 ns\n",
      "Wall time: 49.6 µs\n"
     ]
    },
    {
     "data": {
      "text/plain": [
       "False"
      ]
     },
     "execution_count": 5,
     "metadata": {},
     "output_type": "execute_result"
    }
   ],
   "source": [
    "%time factor(95468093486093450983409583409850934850938459083)\n",
    "\n",
    "n=95468093486093450983409583409850934850938459083\n",
    "%time Mod(2, n)^(n-1)\n",
    "\n",
    "n=95468093486093450983409583409850934850938459083\n",
    "%time is_prime(n)"
   ]
  }
 ],
 "metadata": {
  "kernelspec": {
   "display_name": "SageMath 9.1",
   "language": "sage",
   "name": "sagemath"
  },
  "language_info": {
   "codemirror_mode": {
    "name": "ipython",
    "version": 3
   },
   "file_extension": ".py",
   "mimetype": "text/x-python",
   "name": "python",
   "nbconvert_exporter": "python",
   "pygments_lexer": "ipython3",
   "version": "3.7.3"
  }
 },
 "nbformat": 4,
 "nbformat_minor": 2
}
