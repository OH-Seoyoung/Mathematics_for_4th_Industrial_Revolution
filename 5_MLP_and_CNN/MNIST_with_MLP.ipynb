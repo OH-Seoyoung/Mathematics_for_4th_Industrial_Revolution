{
 "cells": [
  {
   "cell_type": "markdown",
   "metadata": {
    "colab_type": "text",
    "id": "HFxO8tCy5ENL"
   },
   "source": [
    "## 0. Import Packages"
   ]
  },
  {
   "cell_type": "code",
   "execution_count": 1,
   "metadata": {
    "colab": {},
    "colab_type": "code",
    "id": "JBrOLlYB5ENM"
   },
   "outputs": [],
   "source": [
    "import numpy as np\n",
    "import tensorflow.compat.v1 as tf\n",
    "import matplotlib.pyplot as plt"
   ]
  },
  {
   "cell_type": "markdown",
   "metadata": {},
   "source": [
    "## 1. Load Dataset"
   ]
  },
  {
   "cell_type": "code",
   "execution_count": 2,
   "metadata": {
    "colab": {},
    "colab_type": "code",
    "id": "_j1Hu77A5ENP"
   },
   "outputs": [],
   "source": [
    "mnist = tf.keras.datasets.mnist\n",
    "\n",
    "training, test = mnist.load_data()\n",
    "\n",
    "training_img, training_lab = training\n",
    "test_img, test_lab = test\n",
    "\n",
    "training_img = np.reshape(training_img, (-1, 28*28))\n",
    "training_lab = tf.keras.utils.to_categorical(training_lab, 10)\n",
    "\n",
    "test_img = np.reshape(test_img, (-1, 28*28))\n",
    "test_lab = tf.keras.utils.to_categorical(test_lab, 10)\n",
    "\n",
    "\n",
    "training_img = training_img / (np.ones_like(training_img)*255.)\n",
    "test_img = test_img / (np.ones_like(test_img)*255.)"
   ]
  },
  {
   "cell_type": "code",
   "execution_count": 3,
   "metadata": {
    "colab": {
     "base_uri": "https://localhost:8080/",
     "height": 1000
    },
    "colab_type": "code",
    "executionInfo": {
     "elapsed": 3042,
     "status": "ok",
     "timestamp": 1589155513103,
     "user": {
      "displayName": "지상민",
      "photoUrl": "",
      "userId": "15412183634561194315"
     },
     "user_tz": -540
    },
    "id": "PFZxgoQO5ENT",
    "outputId": "e8789fdb-4293-486f-df6e-051489f14c8c"
   },
   "outputs": [
    {
     "name": "stdout",
     "output_type": "stream",
     "text": [
      "the number of training dataset: (60000, 784)\n",
      "the number of test dataset: (10000, 784)\n",
      "[[0.         0.         0.         0.         0.         0.\n",
      "  0.         0.         0.         0.         0.         0.\n",
      "  0.         0.         0.         0.         0.         0.\n",
      "  0.         0.         0.         0.         0.         0.\n",
      "  0.         0.         0.         0.        ]\n",
      " [0.         0.         0.         0.         0.         0.\n",
      "  0.         0.         0.         0.         0.         0.\n",
      "  0.         0.         0.         0.         0.         0.\n",
      "  0.         0.         0.         0.         0.         0.\n",
      "  0.         0.         0.         0.        ]\n",
      " [0.         0.         0.         0.         0.         0.\n",
      "  0.         0.         0.         0.         0.         0.\n",
      "  0.         0.         0.         0.         0.         0.\n",
      "  0.         0.         0.         0.         0.         0.\n",
      "  0.         0.         0.         0.        ]\n",
      " [0.         0.         0.         0.         0.         0.\n",
      "  0.         0.         0.         0.         0.         0.\n",
      "  0.         0.         0.         0.         0.         0.\n",
      "  0.         0.         0.         0.         0.         0.\n",
      "  0.         0.         0.         0.        ]\n",
      " [0.         0.         0.         0.         0.         0.\n",
      "  0.         0.         0.         0.         0.         0.\n",
      "  0.         0.         0.         0.         0.         0.\n",
      "  0.         0.         0.         0.         0.         0.\n",
      "  0.         0.         0.         0.        ]\n",
      " [0.         0.         0.         0.         0.         0.\n",
      "  0.         0.         0.         0.         0.         0.\n",
      "  0.         0.         0.         0.         0.         0.\n",
      "  0.         0.         0.         0.         0.         0.\n",
      "  0.         0.         0.         0.        ]\n",
      " [0.         0.         0.         0.         0.         0.\n",
      "  0.         0.         0.         0.         0.12941176 0.3254902\n",
      "  0.00392157 0.         0.         0.         0.         0.\n",
      "  0.         0.         0.         0.         0.         0.\n",
      "  0.         0.         0.         0.        ]\n",
      " [0.         0.         0.         0.         0.         0.\n",
      "  0.         0.         0.         0.         0.80392157 0.99607843\n",
      "  0.27843137 0.         0.         0.         0.         0.\n",
      "  0.         0.         0.         0.         0.0745098  0.11372549\n",
      "  0.08627451 0.09803922 0.         0.        ]\n",
      " [0.         0.         0.         0.         0.         0.\n",
      "  0.         0.         0.         0.09803922 0.83529412 0.99607843\n",
      "  0.45098039 0.         0.         0.         0.         0.\n",
      "  0.         0.         0.         0.29019608 0.85098039 0.96078431\n",
      "  0.72941176 0.23529412 0.         0.        ]\n",
      " [0.         0.         0.         0.         0.         0.\n",
      "  0.         0.         0.         0.64705882 0.99607843 0.99607843\n",
      "  0.07058824 0.         0.         0.         0.         0.\n",
      "  0.         0.         0.25098039 0.96862745 0.99607843 0.79607843\n",
      "  0.08235294 0.         0.         0.        ]\n",
      " [0.         0.         0.         0.         0.         0.\n",
      "  0.         0.         0.13333333 0.8745098  0.99607843 0.54901961\n",
      "  0.00392157 0.         0.         0.         0.         0.\n",
      "  0.         0.40784314 0.95294118 0.99607843 0.70980392 0.08235294\n",
      "  0.         0.         0.         0.        ]\n",
      " [0.         0.         0.         0.         0.         0.\n",
      "  0.         0.14509804 0.84313725 0.99607843 0.7372549  0.02745098\n",
      "  0.         0.         0.         0.         0.         0.\n",
      "  0.50588235 0.99607843 0.99607843 0.65882353 0.00784314 0.\n",
      "  0.         0.         0.         0.        ]\n",
      " [0.         0.         0.         0.         0.         0.\n",
      "  0.01960784 0.83137255 0.99607843 0.82352941 0.13333333 0.\n",
      "  0.         0.         0.         0.         0.         0.40392157\n",
      "  0.98039216 0.99607843 0.4745098  0.         0.         0.\n",
      "  0.         0.         0.         0.        ]\n",
      " [0.         0.         0.         0.         0.         0.\n",
      "  0.3254902  0.99607843 0.99607843 0.36862745 0.18823529 0.22745098\n",
      "  0.12156863 0.10588235 0.         0.09019608 0.24705882 0.89019608\n",
      "  0.99607843 0.88627451 0.36862745 0.         0.         0.\n",
      "  0.         0.         0.         0.        ]\n",
      " [0.         0.         0.         0.         0.         0.\n",
      "  0.83529412 0.99607843 0.99607843 0.99607843 0.99607843 1.\n",
      "  0.99607843 0.98431373 0.79607843 0.95686275 0.99607843 0.99607843\n",
      "  0.99607843 0.99607843 0.98039216 0.29019608 0.         0.\n",
      "  0.         0.         0.         0.        ]\n",
      " [0.         0.         0.         0.         0.         0.\n",
      "  0.6        0.99607843 0.99607843 0.99607843 0.94901961 0.91764706\n",
      "  0.99607843 0.91764706 0.94509804 0.99607843 0.99607843 0.99607843\n",
      "  0.99607843 0.79215686 0.92156863 0.29019608 0.         0.\n",
      "  0.         0.         0.         0.        ]\n",
      " [0.         0.         0.         0.         0.         0.\n",
      "  0.00784314 0.34509804 0.28235294 0.10980392 0.08627451 0.06666667\n",
      "  0.10980392 0.07058824 0.46666667 0.99607843 0.99607843 0.50588235\n",
      "  0.10980392 0.00392157 0.07058824 0.         0.         0.\n",
      "  0.         0.         0.         0.        ]\n",
      " [0.         0.         0.         0.         0.         0.\n",
      "  0.         0.         0.         0.         0.         0.\n",
      "  0.         0.0627451  0.96470588 0.99607843 0.60392157 0.00784314\n",
      "  0.         0.         0.         0.         0.         0.\n",
      "  0.         0.         0.         0.        ]\n",
      " [0.         0.         0.         0.         0.         0.\n",
      "  0.         0.         0.         0.         0.         0.\n",
      "  0.00784314 0.59215686 0.99607843 0.89019608 0.05882353 0.\n",
      "  0.         0.         0.         0.         0.         0.\n",
      "  0.         0.         0.         0.        ]\n",
      " [0.         0.         0.         0.         0.         0.\n",
      "  0.         0.         0.         0.         0.         0.\n",
      "  0.14117647 0.90196078 0.99607843 0.68627451 0.         0.\n",
      "  0.         0.         0.         0.         0.         0.\n",
      "  0.         0.         0.         0.        ]\n",
      " [0.         0.         0.         0.         0.         0.\n",
      "  0.         0.         0.         0.         0.         0.\n",
      "  0.61568627 0.99607843 0.94901961 0.11372549 0.         0.\n",
      "  0.         0.         0.         0.         0.         0.\n",
      "  0.         0.         0.         0.        ]\n",
      " [0.         0.         0.         0.         0.         0.\n",
      "  0.         0.         0.         0.         0.         0.14509804\n",
      "  0.88235294 0.99607843 0.4745098  0.         0.         0.\n",
      "  0.         0.         0.         0.         0.         0.\n",
      "  0.         0.         0.         0.        ]\n",
      " [0.         0.         0.         0.         0.         0.\n",
      "  0.         0.         0.         0.         0.         0.13333333\n",
      "  0.90980392 0.89411765 0.11764706 0.         0.         0.\n",
      "  0.         0.         0.         0.         0.         0.\n",
      "  0.         0.         0.         0.        ]\n",
      " [0.         0.         0.         0.         0.         0.\n",
      "  0.         0.         0.         0.         0.         0.\n",
      "  0.0627451  0.05882353 0.         0.         0.         0.\n",
      "  0.         0.         0.         0.         0.         0.\n",
      "  0.         0.         0.         0.        ]\n",
      " [0.         0.         0.         0.         0.         0.\n",
      "  0.         0.         0.         0.         0.         0.\n",
      "  0.         0.         0.         0.         0.         0.\n",
      "  0.         0.         0.         0.         0.         0.\n",
      "  0.         0.         0.         0.        ]\n",
      " [0.         0.         0.         0.         0.         0.\n",
      "  0.         0.         0.         0.         0.         0.\n",
      "  0.         0.         0.         0.         0.         0.\n",
      "  0.         0.         0.         0.         0.         0.\n",
      "  0.         0.         0.         0.        ]\n",
      " [0.         0.         0.         0.         0.         0.\n",
      "  0.         0.         0.         0.         0.         0.\n",
      "  0.         0.         0.         0.         0.         0.\n",
      "  0.         0.         0.         0.         0.         0.\n",
      "  0.         0.         0.         0.        ]\n",
      " [0.         0.         0.         0.         0.         0.\n",
      "  0.         0.         0.         0.         0.         0.\n",
      "  0.         0.         0.         0.         0.         0.\n",
      "  0.         0.         0.         0.         0.         0.\n",
      "  0.         0.         0.         0.        ]]\n",
      "label : 4\n"
     ]
    },
    {
     "data": {
      "image/png": "[encoded data removed]",
      "text/plain": [
       "<Figure size 288x288 with 1 Axes>"
      ]
     },
     "metadata": {
      "needs_background": "light"
     },
     "output_type": "display_data"
    }
   ],
   "source": [
    "print(\"the number of training dataset:\", np.shape(training_img))\n",
    "print(\"the number of test dataset:\", np.shape(test_img))\n",
    "\n",
    "\n",
    "r = np.random.choice(len(training_img), size=1)\n",
    "sample_img = training_img[r]\n",
    "\n",
    "sample_img = np.reshape(sample_img, (28, 28))\n",
    "print(sample_img)\n",
    "\n",
    "plt.matshow(sample_img, cmap=plt.get_cmap('gray'))\n",
    "sample_lab = training_lab[r]\n",
    "print (\"label :\", np.argmax(sample_lab))"
   ]
  },
  {
   "cell_type": "markdown",
   "metadata": {
    "colab_type": "text",
    "id": "NWJgBMKu5ENV"
   },
   "source": [
    "## 2. Training (no batch)"
   ]
  },
  {
   "cell_type": "code",
   "execution_count": 4,
   "metadata": {
    "colab": {
     "base_uri": "https://localhost:8080/",
     "height": 275
    },
    "colab_type": "code",
    "executionInfo": {
     "elapsed": 45586,
     "status": "ok",
     "timestamp": 1589155555660,
     "user": {
      "displayName": "지상민",
      "photoUrl": "",
      "userId": "15412183634561194315"
     },
     "user_tz": -540
    },
    "id": "ptIaQN4l5ENW",
    "outputId": "d9a9fbd1-8bb3-4db6-ba52-8da84c00c9b9"
   },
   "outputs": [
    {
     "name": "stdout",
     "output_type": "stream",
     "text": [
      "cost: nan acc:  0.11218333\n",
      "cost: nan acc:  0.09871667\n",
      "cost: nan acc:  0.09871667\n",
      "cost: nan acc:  0.09871667\n",
      "cost: nan acc:  0.09871667\n",
      "cost: nan acc:  0.09871667\n",
      "cost: nan acc:  0.09871667\n",
      "cost: nan acc:  0.09871667\n",
      "cost: nan acc:  0.09871667\n",
      "cost: nan acc:  0.09871667\n",
      "test acc: 0.098\n"
     ]
    }
   ],
   "source": [
    "with tf.Session() as sess:\n",
    "    x = tf.placeholder(tf.float32, [None, 784])\n",
    "    y = tf.placeholder(tf.float32, [None, 10])\n",
    "\n",
    "    W = tf.Variable(tf.random_normal([784, 10]))\n",
    "    b = tf.Variable(tf.random_normal([10]))\n",
    "\n",
    "    a = 0.05 \n",
    "    H = tf.nn.softmax(tf.matmul(x, W) + b)\n",
    "    cost = tf.reduce_mean(-tf.reduce_sum(y * tf.log(H), axis=1)) #비용함수\n",
    "\n",
    "    optimizer = tf.train.GradientDescentOptimizer(a) \n",
    "    train = optimizer.minimize(cost) \n",
    "                \n",
    "    predicted = tf.equal(tf.argmax(H,1), tf.argmax(y,1))\n",
    "    accuracy = tf.reduce_mean(tf.cast(predicted, tf.float32))                \n",
    "\n",
    "    init = tf.global_variables_initializer()\n",
    "    sess.run(init)\n",
    "\n",
    "    iteration = 200\n",
    "    for i in range(iteration):\n",
    "        c, acc, _ = sess.run([cost, accuracy, train], \n",
    "                          feed_dict={x: training_img, y: training_lab})\n",
    "        if i % (iteration//10) == 0:\n",
    "            print(\"cost:\", c, \"acc: \", acc)\n",
    "          \n",
    "    print(\"test acc:\", \n",
    "          sess.run(accuracy, feed_dict={x: test_img, y: test_lab}))        "
   ]
  },
  {
   "cell_type": "markdown",
   "metadata": {
    "colab_type": "text",
    "id": "w--42OMN5ENY"
   },
   "source": [
    "## 3. Training with batch"
   ]
  },
  {
   "cell_type": "code",
   "execution_count": 5,
   "metadata": {
    "colab": {
     "base_uri": "https://localhost:8080/",
     "height": 374
    },
    "colab_type": "code",
    "executionInfo": {
     "elapsed": 61280,
     "status": "ok",
     "timestamp": 1589155571360,
     "user": {
      "displayName": "지상민",
      "photoUrl": "",
      "userId": "15412183634561194315"
     },
     "user_tz": -540
    },
    "id": "I6VhDTGr5ENY",
    "outputId": "52763d75-b935-4276-bda5-5d760fa74209"
   },
   "outputs": [
    {
     "name": "stdout",
     "output_type": "stream",
     "text": [
      "Epoch: 0 cost: 3.3921147129933042 acc:  0.5258666663368562\n",
      "Epoch: 1 cost: 0.8737592167655636 acc:  0.8149499983588872\n",
      "Epoch: 2 cost: 0.4701105263084176 acc:  0.877216666738193\n",
      "Epoch: 3 cost: 0.28859918755789593 acc:  0.9179833347598716\n",
      "Epoch: 4 cost: 0.19063658894350116 acc:  0.9462166674931851\n",
      "Epoch: 5 cost: 0.1330319286634525 acc:  0.9666833434502294\n",
      "Epoch: 6 cost: 0.09780888287971412 acc:  0.9797166764736198\n",
      "Epoch: 7 cost: 0.07559965071578828 acc:  0.9889333391189609\n",
      "Epoch: 8 cost: 0.06096169193585712 acc:  0.9935000025232689\n",
      "Epoch: 9 cost: 0.050835891623670894 acc:  0.9954166684548127\n",
      "Epoch: 10 cost: 0.043461805852130046 acc:  0.9969500017166213\n",
      "Epoch: 11 cost: 0.03787201358626286 acc:  0.9982500009735502\n",
      "Epoch: 12 cost: 0.033509442579622094 acc:  0.9989000007510268\n",
      "Epoch: 13 cost: 0.030025095744058507 acc:  0.9991833341121762\n",
      "Epoch: 14 cost: 0.02718694185217225 acc:  0.9993666672706697\n",
      "Epoch: 15 cost: 0.024835538485397903 acc:  0.999566667079935\n",
      "Epoch: 16 cost: 0.022858802247792475 acc:  0.9997500002384281\n",
      "Epoch: 17 cost: 0.02117599549703297 acc:  0.999916666746149\n",
      "Epoch: 18 cost: 0.01972763288300483 acc:  0.999916666746149\n",
      "Epoch: 19 cost: 0.018468979819056885 acc:  0.999916666746149\n",
      "test acc: 0.7855\n"
     ]
    }
   ],
   "source": [
    "with tf.Session() as sess:\n",
    "    x = tf.placeholder(tf.float32, [None, 784])\n",
    "    y = tf.placeholder(tf.float32, [None, 10])\n",
    "\n",
    "    W = tf.Variable(tf.random_normal([784, 10]))\n",
    "    b = tf.Variable(tf.random_normal([10]))\n",
    "\n",
    "    a = 0.05  \n",
    "    H = tf.nn.softmax(tf.matmul(x, W) + b)\n",
    "    cost = tf.reduce_mean(-tf.reduce_sum(y * tf.log(H), axis=1)) #비용함수\n",
    "\n",
    "    optimizer = tf.train.GradientDescentOptimizer(a) \n",
    "    train = optimizer.minimize(cost) \n",
    "                \n",
    "    predicted = tf.equal(tf.argmax(H,1), tf.argmax(y,1))\n",
    "    accuracy = tf.reduce_mean(tf.cast(predicted, tf.float32))                \n",
    "\n",
    "    init = tf.global_variables_initializer()\n",
    "    sess.run(init)\n",
    "\n",
    "    training_epochs = 20\n",
    "    batch_size = 100\n",
    "  \n",
    "    for i in range(training_epochs):\n",
    "        total_batch = int(np.shape(training_img)[0]/batch_size)\n",
    "        avg_cost = 0\n",
    "        avg_acc = 0\n",
    "      \n",
    "        for iteration in range(total_batch):\n",
    "            batch_xs = training_img[iteration : iteration + batch_size]\n",
    "            batch_ys = training_lab[iteration : iteration + batch_size]\n",
    "            c, acc, _ = sess.run([cost, accuracy, train], \n",
    "                          feed_dict={x: batch_xs, y: batch_ys})\n",
    "            avg_cost = avg_cost + c/total_batch\n",
    "            avg_acc = avg_acc + acc/total_batch\n",
    "          \n",
    "        print(\"Epoch:\", i, \"cost:\", avg_cost, \"acc: \", avg_acc)\n",
    "          \n",
    "    print(\"test acc:\", \n",
    "        sess.run(accuracy, feed_dict={x: test_img, y: test_lab}))  "
   ]
  },
  {
   "cell_type": "markdown",
   "metadata": {
    "colab_type": "text",
    "id": "Qbu3Lm0K5ENa"
   },
   "source": [
    "## 4. Training MLP with batch"
   ]
  },
  {
   "cell_type": "code",
   "execution_count": 6,
   "metadata": {
    "colab": {
     "base_uri": "https://localhost:8080/",
     "height": 884
    },
    "colab_type": "code",
    "executionInfo": {
     "elapsed": 127173,
     "status": "ok",
     "timestamp": 1589155637257,
     "user": {
      "displayName": "지상민",
      "photoUrl": "",
      "userId": "15412183634561194315"
     },
     "user_tz": -540
    },
    "id": "1E5NQUjP5ENb",
    "outputId": "715581e7-225f-47bf-aab4-06ee4341f65e",
    "scrolled": true
   },
   "outputs": [
    {
     "name": "stdout",
     "output_type": "stream",
     "text": [
      "Epoch: 0 cost: 1.7084393815199557 acc:  0.6430833331743885\n",
      "Epoch: 1 cost: 0.3163996883854272 acc:  0.923266667326295\n",
      "Epoch: 2 cost: 0.14840306288873154 acc:  0.9792666735251729\n",
      "Epoch: 3 cost: 0.09221312007866803 acc:  0.9908166709542288\n",
      "Epoch: 4 cost: 0.06572869589862727 acc:  0.9943000031511039\n",
      "Epoch: 5 cost: 0.05056076849189898 acc:  0.9961000024279026\n",
      "Epoch: 6 cost: 0.04085457953158764 acc:  0.9968333351612156\n",
      "Epoch: 7 cost: 0.03412942713126538 acc:  0.9972500015298589\n",
      "Epoch: 8 cost: 0.029225002923049043 acc:  0.99803333441417\n",
      "Epoch: 9 cost: 0.025545866745524125 acc:  0.9985166675845852\n",
      "Epoch: 10 cost: 0.022707761293277135 acc:  0.9988500007987102\n",
      "Epoch: 11 cost: 0.020445587197318673 acc:  0.9989500007033427\n",
      "Epoch: 12 cost: 0.018585284613848962 acc:  0.9990000008543412\n",
      "Epoch: 13 cost: 0.017015593853623907 acc:  0.9990666674574296\n",
      "Epoch: 14 cost: 0.015663800030791507 acc:  0.9992166674137195\n",
      "Epoch: 15 cost: 0.014480735129521553 acc:  0.9992166674137195\n",
      "Epoch: 16 cost: 0.013432328286580747 acc:  0.9992166674137195\n",
      "Epoch: 17 cost: 0.012494654611994822 acc:  0.9992166674137195\n",
      "Epoch: 18 cost: 0.01165078524500132 acc:  0.9992166674137195\n",
      "Epoch: 19 cost: 0.010888690627180038 acc:  0.9992166674137195\n",
      "Epoch: 20 cost: 0.010199605853607246 acc:  0.9992166674137195\n",
      "Epoch: 21 cost: 0.00957664503560712 acc:  0.9992166674137195\n",
      "Epoch: 22 cost: 0.00901379641533519 acc:  0.9993500006198963\n",
      "Epoch: 23 cost: 0.008505421473334232 acc:  0.999550000429162\n",
      "Epoch: 24 cost: 0.008046171548776331 acc:  0.9997000002861114\n",
      "Epoch: 25 cost: 0.00763120045924249 acc:  0.9997500002384279\n",
      "Epoch: 26 cost: 0.007256158635330702 acc:  0.9997500002384279\n",
      "Epoch: 27 cost: 0.006917117283834763 acc:  0.9997500002384279\n",
      "Epoch: 28 cost: 0.00661029177485034 acc:  0.9997833335399722\n",
      "Epoch: 29 cost: 0.006331891479979577 acc:  0.9998166668415165\n",
      "Epoch: 30 cost: 0.006078307436934364 acc:  0.999900000095377\n",
      "Epoch: 31 cost: 0.0058462894416879884 acc:  0.999900000095377\n",
      "Epoch: 32 cost: 0.0056330123287625595 acc:  0.999900000095377\n",
      "Epoch: 33 cost: 0.005436105502303699 acc:  0.9999333333969213\n",
      "Epoch: 34 cost: 0.005253610423921299 acc:  0.9999666666984655\n",
      "Epoch: 35 cost: 0.005083857025795923 acc:  0.9999833333492375\n",
      "Epoch: 36 cost: 0.004925472459290173 acc:  0.9999833333492375\n",
      "Epoch: 37 cost: 0.004777260404080148 acc:  0.9999833333492375\n",
      "Epoch: 38 cost: 0.004638229498717312 acc:  0.9999833333492375\n",
      "Epoch: 39 cost: 0.004507494653419903 acc:  0.9999833333492375\n",
      "Epoch: 40 cost: 0.004384305617616822 acc:  0.9999833333492375\n",
      "Epoch: 41 cost: 0.004267984956580527 acc:  0.9999833333492375\n",
      "Epoch: 42 cost: 0.004157961497548965 acc:  0.9999833333492375\n",
      "Epoch: 43 cost: 0.004053706395206971 acc:  0.9999833333492375\n",
      "Epoch: 44 cost: 0.003954773523146285 acc:  0.9999833333492375\n",
      "Epoch: 45 cost: 0.003860743734597541 acc:  0.9999833333492375\n",
      "Epoch: 46 cost: 0.003771250917731474 acc:  0.9999833333492375\n",
      "Epoch: 47 cost: 0.0036859568433525646 acc:  0.9999833333492375\n",
      "Epoch: 48 cost: 0.0036045711772749217 acc:  0.9999833333492375\n",
      "Epoch: 49 cost: 0.003526818008006861 acc:  0.9999833333492375\n",
      "test acc: 0.7486\n"
     ]
    }
   ],
   "source": [
    "with tf.Session() as sess:\n",
    "    x = tf.placeholder(tf.float32, [None, 784])\n",
    "    y = tf.placeholder(tf.float32, [None, 10])\n",
    "\n",
    "\n",
    "  # more hidden layer\n",
    "    W1 = tf.Variable(tf.random_normal([784, 128]))\n",
    "    b1 = tf.Variable(tf.random_normal([128]))\n",
    "\n",
    "  # activation\n",
    "    H1 = tf.nn.sigmoid(tf.matmul(x, W1) + b1)\n",
    "\n",
    "\n",
    "    W = tf.Variable(tf.random_normal([128, 10]))\n",
    "    b = tf.Variable(tf.random_normal([10]))\n",
    "\n",
    "    a = 0.05  \n",
    "    H = tf.nn.softmax(tf.matmul(H1, W) + b)\n",
    "    cost = tf.reduce_mean(-tf.reduce_sum(y * tf.log(H), axis=1)) #비용함수\n",
    "\n",
    "    optimizer = tf.train.GradientDescentOptimizer(a) \n",
    "    train = optimizer.minimize(cost) \n",
    "                \n",
    "    predicted = tf.equal(tf.argmax(H,1), tf.argmax(y,1))\n",
    "    accuracy = tf.reduce_mean(tf.cast(predicted, tf.float32))                \n",
    "\n",
    "    init = tf.global_variables_initializer()\n",
    "    sess.run(init)\n",
    "\n",
    "    training_epochs = 50\n",
    "    batch_size = 100\n",
    "\n",
    "    for i in range(training_epochs):\n",
    "        total_batch = int(np.shape(training_img)[0]/batch_size)\n",
    "        avg_cost = 0\n",
    "        avg_acc = 0\n",
    "      \n",
    "        for iteration in range(total_batch):\n",
    "            batch_xs = training_img[iteration : iteration + batch_size]\n",
    "            batch_ys = training_lab[iteration : iteration + batch_size]\n",
    "            c, acc, _ = sess.run([cost, accuracy, train], \n",
    "                          feed_dict={x: batch_xs, y: batch_ys})\n",
    "            avg_cost = avg_cost + c/total_batch\n",
    "            avg_acc = avg_acc + acc/total_batch\n",
    "          \n",
    "        print(\"Epoch:\", i, \"cost:\", avg_cost, \"acc: \", avg_acc)\n",
    "\n",
    "      # p, pred : check wrong prediction\n",
    "    p, pred, acc = sess.run([tf.argmax(H, 1), predicted, accuracy],  feed_dict={x: test_img, y: test_lab}) \n",
    "    print(\"test acc:\", acc)\n"
   ]
  },
  {
   "cell_type": "markdown",
   "metadata": {
    "colab_type": "text",
    "id": "wFhlrTrL5ENd"
   },
   "source": [
    "## 5. Check wrong data"
   ]
  },
  {
   "cell_type": "code",
   "execution_count": 7,
   "metadata": {
    "colab": {
     "base_uri": "https://localhost:8080/",
     "height": 893
    },
    "colab_type": "code",
    "executionInfo": {
     "elapsed": 127519,
     "status": "ok",
     "timestamp": 1589155637609,
     "user": {
      "displayName": "지상민",
      "photoUrl": "",
      "userId": "15412183634561194315"
     },
     "user_tz": -540
    },
    "id": "Pq3qm5A65ENe",
    "outputId": "825d8dc8-b5b8-4f08-a22d-9dcd727b2add"
   },
   "outputs": [
    {
     "name": "stdout",
     "output_type": "stream",
     "text": [
      "Target :  8\n",
      "Prediction :  5\n"
     ]
    },
    {
     "data": {
      "image/png": "[encoded data removed]",
      "text/plain": [
       "<Figure size 288x288 with 1 Axes>"
      ]
     },
     "metadata": {
      "needs_background": "light"
     },
     "output_type": "display_data"
    },
    {
     "name": "stdout",
     "output_type": "stream",
     "text": [
      "Target :  5\n",
      "Prediction :  8\n"
     ]
    },
    {
     "data": {
      "image/png": "[encoded data removed]",
      "text/plain": [
       "<Figure size 288x288 with 1 Axes>"
      ]
     },
     "metadata": {
      "needs_background": "light"
     },
     "output_type": "display_data"
    },
    {
     "name": "stdout",
     "output_type": "stream",
     "text": [
      "Target :  8\n",
      "Prediction :  1\n"
     ]
    },
    {
     "data": {
      "image/png": "[encoded data removed]",
      "text/plain": [
       "<Figure size 288x288 with 1 Axes>"
      ]
     },
     "metadata": {
      "needs_background": "light"
     },
     "output_type": "display_data"
    }
   ],
   "source": [
    "random_num = np.random.choice((np.where(pred==False)[0]), size=3)\n",
    "# print(random_num)\n",
    "for i in random_num:\n",
    "    print(\"Target : \", np.argmax(test_lab[i]))\n",
    "    print(\"Prediction : \", p[i])\n",
    "    sample_img = np.reshape(test_img[i],(28,28))\n",
    "    plt.matshow(sample_img, cmap=plt.get_cmap('gray'))    \n",
    "    plt.show()\n",
    "      "
   ]
  }
 ],
 "metadata": {
  "colab": {
   "collapsed_sections": [],
   "name": "MOOC-Week10-2-MNIST.ipynb",
   "provenance": []
  },
  "kernelspec": {
   "display_name": "Python 3",
   "language": "python",
   "name": "python3"
  },
  "language_info": {
   "codemirror_mode": {
    "name": "ipython",
    "version": 3
   },
   "file_extension": ".py",
   "mimetype": "text/x-python",
   "name": "python",
   "nbconvert_exporter": "python",
   "pygments_lexer": "ipython3",
   "version": "3.8.3"
  }
 },
 "nbformat": 4,
 "nbformat_minor": 1
}
