{
 "cells": [
  {
   "cell_type": "markdown",
   "metadata": {},
   "source": [
    "## 0. Import Packages"
   ]
  },
  {
   "cell_type": "code",
   "execution_count": 1,
   "metadata": {},
   "outputs": [],
   "source": [
    "import numpy as np\n",
    "import tensorflow.compat.v1 as tf\n",
    "import matplotlib.pyplot as plt"
   ]
  },
  {
   "cell_type": "markdown",
   "metadata": {},
   "source": [
    "## 1. MNIST with CNN"
   ]
  },
  {
   "cell_type": "code",
   "execution_count": 2,
   "metadata": {
    "colab": {},
    "colab_type": "code",
    "id": "mCz1Tou5EHk2"
   },
   "outputs": [],
   "source": [
    "mnist = tf.keras.datasets.mnist\n",
    "\n",
    "training, test = mnist.load_data()\n",
    "\n",
    "training_img, training_lab = training\n",
    "test_img, test_lab = test\n",
    "\n",
    "training_img = np.reshape(training_img, (-1, 28*28))\n",
    "training_lab = tf.keras.utils.to_categorical(training_lab, 10)\n",
    "\n",
    "test_img = np.reshape(test_img, (-1, 28*28))\n",
    "test_lab = tf.keras.utils.to_categorical(test_lab, 10)\n",
    "\n",
    "\n",
    "training_img = training_img / (np.ones_like(training_img)*255.)\n",
    "test_img = test_img / (np.ones_like(test_img)*255.)"
   ]
  },
  {
   "cell_type": "markdown",
   "metadata": {
    "colab_type": "text",
    "id": "Kej14nVyEHk6"
   },
   "source": [
    "- https://www.tensorflow.org/get_started/mnist/pros"
   ]
  },
  {
   "cell_type": "code",
   "execution_count": 4,
   "metadata": {
    "colab": {
     "base_uri": "https://localhost:8080/",
     "height": 751
    },
    "colab_type": "code",
    "executionInfo": {
     "elapsed": 506940,
     "status": "ok",
     "timestamp": 1589156904771,
     "user": {
      "displayName": "지상민",
      "photoUrl": "",
      "userId": "15412183634561194315"
     },
     "user_tz": -540
    },
    "id": "tVjvKsUuEHk7",
    "outputId": "1c559b27-9079-49b4-c8e7-8b83af816f94"
   },
   "outputs": [
    {
     "name": "stdout",
     "output_type": "stream",
     "text": [
      "WARNING:tensorflow:From C:\\ProgramData\\Anaconda3\\lib\\site-packages\\tensorflow\\python\\util\\dispatch.py:201: softmax_cross_entropy_with_logits (from tensorflow.python.ops.nn_ops) is deprecated and will be removed in a future version.\n",
      "Instructions for updating:\n",
      "\n",
      "Future major versions of TensorFlow will allow gradients to flow\n",
      "into the labels input on backprop by default.\n",
      "\n",
      "See `tf.nn.softmax_cross_entropy_with_logits_v2`.\n",
      "\n",
      "Epoch: 0 cost:  0.05486788153609582\n",
      "acc: 1.0\n",
      "test acc: 0.8921\n",
      "Epoch: 1 cost:  0.005940549781110653\n",
      "acc: 1.0\n",
      "test acc: 0.942\n",
      "Epoch: 2 cost:  0.000442495418679793\n",
      "acc: 0.98\n",
      "test acc: 0.9421\n",
      "Epoch: 3 cost:  0.0002326497914601574\n",
      "acc: 1.0\n",
      "test acc: 0.9588\n",
      "Epoch: 4 cost:  0.0006619435604233101\n",
      "acc: 1.0\n",
      "test acc: 0.9474\n",
      "Epoch: 5 cost:  0.00017732971527162076\n",
      "acc: 1.0\n",
      "test acc: 0.9574\n",
      "Epoch: 6 cost:  6.412012515689601e-05\n",
      "acc: 1.0\n",
      "test acc: 0.947\n",
      "Epoch: 7 cost:  0.00013128324129236063\n",
      "acc: 1.0\n",
      "test acc: 0.9298\n",
      "Epoch: 8 cost:  4.8016963795850124e-05\n",
      "acc: 1.0\n",
      "test acc: 0.9555\n",
      "Epoch: 9 cost:  3.079442744150874e-06\n",
      "acc: 1.0\n",
      "test acc: 0.9574\n",
      "Done\n"
     ]
    }
   ],
   "source": [
    "with tf.Session() as sess:\n",
    "    x = tf.placeholder(tf.float32, [None, 784])\n",
    "    y = tf.placeholder(tf.float32, [None, 10])\n",
    "    x_image = tf.reshape(x, [-1, 28, 28, 1])\n",
    "\n",
    "  # first Conv. Layer\n",
    "    W1 = tf.Variable(tf.random_normal([3, 3, 1, 16], stddev=0.1))\n",
    "    b1 = tf.Variable(tf.random_normal([16], stddev=0.1))\n",
    "\n",
    "    H_conv1 = tf.nn.relu(tf.nn.conv2d(x_image, W1, strides=[1, 1, 1, 1], padding='SAME') + b1)\n",
    "    H_pool1 = tf.nn.max_pool(H_conv1, ksize=[1, 2, 2, 1], strides=[1, 2, 2, 1], padding='SAME')\n",
    "\n",
    "  # second Conv. Layer\n",
    "    W2 = tf.Variable(tf.random_normal([3, 3, 16, 32], stddev=0.1))\n",
    "    b2 = tf.Variable(tf.random_normal([32], stddev=0.1))\n",
    "\n",
    "    H_conv2 = tf.nn.relu(tf.nn.conv2d(H_pool1, W2, strides=[1, 1, 1, 1], padding='SAME') + b2)\n",
    "    H_pool2 = tf.nn.max_pool(H_conv2, ksize=[1, 2, 2, 1], strides=[1, 2, 2, 1], padding='SAME')\n",
    "\n",
    "  # Fully Connected Layer\n",
    "    W3 = tf.Variable(tf.random_normal([7 * 7 * 32, 256], stddev=0.1))\n",
    "    b3 = tf.Variable(tf.random_normal([256], stddev=0.1))\n",
    "\n",
    "    flat = tf.reshape(H_pool2, [-1, 7 * 7 * 32])\n",
    "\n",
    "    H_fc1 = tf.nn.relu(tf.matmul(flat, W3) + b3)\n",
    "\n",
    "    W4 = tf.Variable(tf.random_normal([256, 10], stddev=0.1))\n",
    "    b4 = tf.Variable(tf.random_normal([10], stddev=0.1))\n",
    "\n",
    "    H = tf.matmul(H_fc1, W4) + b4\n",
    "\n",
    "    a = 0.001 # learning rate\n",
    "\n",
    "    cost = tf.reduce_mean(tf.nn.softmax_cross_entropy_with_logits(logits=H, labels=y))\n",
    "\n",
    "    optimizer = tf.train.AdamOptimizer(learning_rate=a)\n",
    "    train = optimizer.minimize(cost) \n",
    "\n",
    "    predicted = tf.equal(tf.argmax(H, 1), tf.argmax(y, 1))    \n",
    "    accuracy = tf.reduce_mean(tf.cast(predicted, tf.float32))\n",
    "  # Training\n",
    "\n",
    "    training_epochs = 10\n",
    "    display_step    = 1\n",
    "    batch_size = 50\n",
    "\n",
    "\n",
    "    init = tf.global_variables_initializer()\n",
    "    sess.run(init)\n",
    "\n",
    "\n",
    "    for epoch in range(training_epochs):\n",
    "        average_cost = 0.\n",
    "        total_batch = int(np.shape(training_img)[0]/batch_size)\n",
    "    \n",
    "        for iteration in range(total_batch):\n",
    "      \n",
    "            batch_xs = training_img[iteration : iteration + batch_size]\n",
    "            batch_ys = training_lab[iteration : iteration + batch_size]\n",
    "            sess.run(train, feed_dict={x: batch_xs, y: batch_ys})\n",
    "            average_cost += sess.run(cost, feed_dict={x: batch_xs, y: batch_ys})/total_batch\n",
    "          \n",
    "        if (epoch) % display_step == 0:\n",
    "\n",
    "            print (\"Epoch:\", epoch, \"cost: \", average_cost)\n",
    "          \n",
    "          #  training set accuracy\n",
    "            training_acc = sess.run(accuracy, feed_dict={x: batch_xs, y: batch_ys})\n",
    "            print (\"acc:\",  training_acc)\n",
    "\n",
    "          # test set accuracy\n",
    "            p, pred, test_acc = sess.run([tf.argmax(H, 1), predicted, accuracy], \n",
    "                                              feed_dict= {x: test_img, y: test_lab})\n",
    "            print (\"test acc:\", test_acc)\n",
    "\n",
    "    print(\"Done\")"
   ]
  },
  {
   "cell_type": "code",
   "execution_count": 6,
   "metadata": {
    "colab": {
     "base_uri": "https://localhost:8080/",
     "height": 893
    },
    "colab_type": "code",
    "executionInfo": {
     "elapsed": 506672,
     "status": "ok",
     "timestamp": 1589156905083,
     "user": {
      "displayName": "지상민",
      "photoUrl": "",
      "userId": "15412183634561194315"
     },
     "user_tz": -540
    },
    "id": "WSA-mzPMEHk_",
    "outputId": "947012a4-b9bf-4b80-ea6c-64774275706b"
   },
   "outputs": [
    {
     "name": "stdout",
     "output_type": "stream",
     "text": [
      "Target :  8\n",
      "Pred :  4\n"
     ]
    },
    {
     "data": {
      "image/png": "[encoded data removed]",
      "text/plain": [
       "<Figure size 288x288 with 1 Axes>"
      ]
     },
     "metadata": {
      "needs_background": "light"
     },
     "output_type": "display_data"
    },
    {
     "name": "stdout",
     "output_type": "stream",
     "text": [
      "Target :  5\n",
      "Pred :  1\n"
     ]
    },
    {
     "data": {
      "image/png": "[encoded data removed]",
      "text/plain": [
       "<Figure size 288x288 with 1 Axes>"
      ]
     },
     "metadata": {
      "needs_background": "light"
     },
     "output_type": "display_data"
    },
    {
     "name": "stdout",
     "output_type": "stream",
     "text": [
      "Target :  5\n",
      "Pred :  8\n"
     ]
    },
    {
     "data": {
      "image/png": "[encoded data removed]",
      "text/plain": [
       "<Figure size 288x288 with 1 Axes>"
      ]
     },
     "metadata": {
      "needs_background": "light"
     },
     "output_type": "display_data"
    }
   ],
   "source": [
    "# Check wrong data\n",
    "\n",
    "random_num = np.random.choice((np.where(pred==False)[0]), size=3)\n",
    "# print(random_num)\n",
    "for i in random_num:\n",
    "    print(\"Target : \", np.argmax(test_lab[i]))\n",
    "    print(\"Pred : \", p[i])\n",
    "    sample_img = np.reshape(test_img[i],(28,28))\n",
    "    plt.matshow(sample_img, cmap=plt.get_cmap('gray'))    \n",
    "    plt.show()"
   ]
  }
 ],
 "metadata": {
  "anaconda-cloud": {},
  "colab": {
   "name": "MOOC-Week10-3-CNN-MNIST.ipynb",
   "provenance": []
  },
  "kernelspec": {
   "display_name": "Python 3",
   "language": "python",
   "name": "python3"
  },
  "language_info": {
   "codemirror_mode": {
    "name": "ipython",
    "version": 3
   },
   "file_extension": ".py",
   "mimetype": "text/x-python",
   "name": "python",
   "nbconvert_exporter": "python",
   "pygments_lexer": "ipython3",
   "version": "3.8.3"
  }
 },
 "nbformat": 4,
 "nbformat_minor": 1
}
