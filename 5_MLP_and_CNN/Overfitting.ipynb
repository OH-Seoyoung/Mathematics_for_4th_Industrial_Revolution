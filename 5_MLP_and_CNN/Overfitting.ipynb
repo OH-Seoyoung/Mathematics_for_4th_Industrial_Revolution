{
 "cells": [
  {
   "cell_type": "markdown",
   "metadata": {
    "colab_type": "text",
    "id": "2t54r-zuG1jY"
   },
   "source": [
    "## 0. Import Packages"
   ]
  },
  {
   "cell_type": "code",
   "execution_count": 1,
   "metadata": {
    "colab": {},
    "colab_type": "code",
    "id": "72RiG9m3G1jZ"
   },
   "outputs": [],
   "source": [
    "import numpy as np\n",
    "import matplotlib.pyplot as plt\n",
    "from scipy.interpolate import lagrange"
   ]
  },
  {
   "cell_type": "markdown",
   "metadata": {
    "colab_type": "text",
    "id": "prugR5HRG1jc"
   },
   "source": [
    "## 1. Cubic curve + 30 noise"
   ]
  },
  {
   "cell_type": "code",
   "execution_count": 2,
   "metadata": {
    "colab": {
     "base_uri": "https://localhost:8080/",
     "height": 265
    },
    "colab_type": "code",
    "executionInfo": {
     "elapsed": 1161,
     "status": "ok",
     "timestamp": 1589156610925,
     "user": {
      "displayName": "지상민",
      "photoUrl": "",
      "userId": "15412183634561194315"
     },
     "user_tz": -540
    },
    "id": "zslpBirdG1jc",
    "outputId": "fdbf5541-9afc-4555-cb38-ae92667416b8"
   },
   "outputs": [
    {
     "data": {
      "image/png": "[encoded data removed]",
      "text/plain": [
       "<Figure size 432x288 with 1 Axes>"
      ]
     },
     "metadata": {
      "needs_background": "light"
     },
     "output_type": "display_data"
    }
   ],
   "source": [
    "x_data = np.random.uniform(0, 5, size=[30])\n",
    "y_data = -x_data**2+5*x_data  + 0.3*np.random.normal(size=[30])\n",
    "\n",
    "plt.plot(x_data, y_data, \"bo\")\n",
    "plt.show()"
   ]
  },
  {
   "cell_type": "markdown",
   "metadata": {
    "colab_type": "text",
    "id": "GKxaXDING1jg"
   },
   "source": [
    "## 2. Lagrange Interpolation"
   ]
  },
  {
   "cell_type": "code",
   "execution_count": 3,
   "metadata": {
    "colab": {
     "base_uri": "https://localhost:8080/",
     "height": 51
    },
    "colab_type": "code",
    "executionInfo": {
     "elapsed": 1155,
     "status": "ok",
     "timestamp": 1589156610926,
     "user": {
      "displayName": "지상민",
      "photoUrl": "",
      "userId": "15412183634561194315"
     },
     "user_tz": -540
    },
    "id": "EdL5a-9_G1jg",
    "outputId": "ad3ade59-8f71-4dae-e3ff-8f3e1bea5c82"
   },
   "outputs": [
    {
     "name": "stdout",
     "output_type": "stream",
     "text": [
      "        3         2\n",
      "0.5357 x - 5.612 x + 17.24 x - 9.337\n"
     ]
    }
   ],
   "source": [
    "poly=lagrange([x_data[1], x_data[3], x_data[4], x_data[10]], [y_data[1], y_data[3], y_data[4], y_data[10]])\n",
    "print(poly)"
   ]
  },
  {
   "cell_type": "code",
   "execution_count": 4,
   "metadata": {
    "colab": {
     "base_uri": "https://localhost:8080/",
     "height": 269
    },
    "colab_type": "code",
    "executionInfo": {
     "elapsed": 1501,
     "status": "ok",
     "timestamp": 1589156611277,
     "user": {
      "displayName": "지상민",
      "photoUrl": "",
      "userId": "15412183634561194315"
     },
     "user_tz": -540
    },
    "id": "4SAWER2aG1ji",
    "outputId": "ac5f8ff3-140c-4ce0-ac3d-1322da980bdd"
   },
   "outputs": [
    {
     "data": {
      "image/png": "[encoded data removed]",
      "text/plain": [
       "<Figure size 432x288 with 1 Axes>"
      ]
     },
     "metadata": {
      "needs_background": "light"
     },
     "output_type": "display_data"
    }
   ],
   "source": [
    "x1 = np.linspace(0, 5, 50)\n",
    "\n",
    "plt.axis([0, 6, 0, 10])\n",
    "\n",
    "plt.plot(x1, poly(x1), 'r-')\n",
    "plt.plot(x_data, y_data, 'bo')\n",
    "plt.show()"
   ]
  }
 ],
 "metadata": {
  "anaconda-cloud": {},
  "colab": {
   "collapsed_sections": [],
   "name": "MOOC-week10-4-Overfitting.ipynb",
   "provenance": []
  },
  "kernelspec": {
   "display_name": "Python 3",
   "language": "python",
   "name": "python3"
  },
  "language_info": {
   "codemirror_mode": {
    "name": "ipython",
    "version": 3
   },
   "file_extension": ".py",
   "mimetype": "text/x-python",
   "name": "python",
   "nbconvert_exporter": "python",
   "pygments_lexer": "ipython3",
   "version": "3.8.3"
  }
 },
 "nbformat": 4,
 "nbformat_minor": 1
}
