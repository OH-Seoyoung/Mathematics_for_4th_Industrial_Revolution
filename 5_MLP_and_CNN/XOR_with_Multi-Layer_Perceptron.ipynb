{
 "cells": [
  {
   "cell_type": "markdown",
   "metadata": {},
   "source": [
    "## 0 .Import Packages"
   ]
  },
  {
   "cell_type": "code",
   "execution_count": 4,
   "metadata": {},
   "outputs": [],
   "source": [
    "import tensorflow.compat.v1 as tf\n",
    "import numpy as np\n",
    "import matplotlib.pyplot as plt\n",
    "%matplotlib inline"
   ]
  },
  {
   "cell_type": "markdown",
   "metadata": {},
   "source": [
    "## 1. Mean"
   ]
  },
  {
   "cell_type": "code",
   "execution_count": 3,
   "metadata": {
    "colab": {
     "base_uri": "https://localhost:8080/",
     "height": 68
    },
    "colab_type": "code",
    "executionInfo": {
     "elapsed": 3376,
     "status": "ok",
     "timestamp": 1589152493343,
     "user": {
      "displayName": "지상민",
      "photoUrl": "",
      "userId": "15412183634561194315"
     },
     "user_tz": -540
    },
    "id": "_oEQHThdfoSY",
    "outputId": "7764d02e-f787-4f6d-a7e1-8dc6fb177fd6",
    "scrolled": true
   },
   "outputs": [
    {
     "name": "stdout",
     "output_type": "stream",
     "text": [
      "[ 0.69333225  0.3389564   0.31915516  0.08547423 -0.56402713  0.63547504\n",
      " -0.64382505  0.17470863  0.6537082  -0.36861426]\n",
      "mean:  0.13243434\n"
     ]
    }
   ],
   "source": [
    "with tf.Session() as sess:\n",
    "    test = sess.run(tf.random_normal([10]))\n",
    "    mean = sess.run(tf.reduce_mean(test))\n",
    "    print(test)\n",
    "    print(\"mean: \", mean)"
   ]
  },
  {
   "cell_type": "markdown",
   "metadata": {},
   "source": [
    "## 2. Training with MLP"
   ]
  },
  {
   "cell_type": "code",
   "execution_count": 5,
   "metadata": {
    "colab": {
     "base_uri": "https://localhost:8080/",
     "height": 435
    },
    "colab_type": "code",
    "executionInfo": {
     "elapsed": 7188,
     "status": "ok",
     "timestamp": 1589152656390,
     "user": {
      "displayName": "지상민",
      "photoUrl": "",
      "userId": "15412183634561194315"
     },
     "user_tz": -540
    },
    "id": "4tfkZXcQfoSe",
    "outputId": "68a85843-0fdf-4d7c-d25e-f1b4df421026"
   },
   "outputs": [
    {
     "name": "stdout",
     "output_type": "stream",
     "text": [
      "Step : 0, cost : 0.7009455  acc : 0.5\n",
      "Step : 1000, cost : 0.6928068  acc : 0.5\n",
      "Step : 2000, cost : 0.6913495  acc : 0.5\n",
      "Step : 3000, cost : 0.6884863  acc : 0.75\n",
      "Step : 4000, cost : 0.68211055  acc : 0.75\n",
      "Step : 5000, cost : 0.6663864  acc : 0.75\n",
      "Step : 6000, cost : 0.6300764  acc : 0.75\n",
      "Step : 7000, cost : 0.5827523  acc : 0.75\n",
      "Step : 8000, cost : 0.5474477  acc : 0.75\n",
      "Step : 9000, cost : 0.52232325  acc : 0.75\n"
     ]
    },
    {
     "data": {
      "image/png": "[encoded data removed]",
      "text/plain": [
       "<Figure size 432x288 with 1 Axes>"
      ]
     },
     "metadata": {
      "needs_background": "light"
     },
     "output_type": "display_data"
    }
   ],
   "source": [
    "x_data = [[0,0], [0,1], [1,0], [1,1]]\n",
    "y_data = [[0], [1], [1], [0]]\n",
    "\n",
    "with tf.Session() as sess:\n",
    "    a = 0.05 # learning rate\n",
    "    x = tf.placeholder(tf.float32, shape=[None,2])\n",
    "    y = tf.placeholder(tf.float32, shape=[None,1])\n",
    "\n",
    "    W1 = tf.Variable(tf.random_normal([2,2]), dtype=tf.float32)\n",
    "    b1 = tf.Variable(tf.random_normal([2]), dtype=tf.float32)\n",
    "\n",
    "    H1 = tf.nn.sigmoid(tf.matmul(x,W1)+b1)\n",
    "\n",
    "    W2 = tf.Variable(tf.random_normal([2,1]), dtype=tf.float32)\n",
    "    b2 = tf.Variable(tf.random_normal([1]), dtype=tf.float32)\n",
    "\n",
    "    H = tf.sigmoid(tf.matmul(H1,W2)+b2)\n",
    "\n",
    "    cost = - tf.reduce_mean(y * tf.log(H) + (1 - y) * tf.log(1 - H))\n",
    "    optimizer = tf.train.GradientDescentOptimizer(a) \n",
    "    train = optimizer.minimize(cost) \n",
    "\n",
    "  # Calculate accuracy\n",
    "  # If Hypothesis H가 > 0.5 then 1 else 0\n",
    "    predicted = tf.cast(H > 0.5, dtype=tf.float32)\n",
    "    accuracy = tf.reduce_mean(tf.cast(tf.equal(predicted, y), dtype=tf.float32))\n",
    "\n",
    "\n",
    "    sess = tf.Session()\n",
    "    init = tf.global_variables_initializer()\n",
    "    sess.run(init)\n",
    "\n",
    "    cost_list = []\n",
    "\n",
    "    iteration = 10000\n",
    "    for step in range(iteration):\n",
    "        acc, c, _, = sess.run([accuracy, cost,  train], feed_dict={x: x_data, y: y_data})\n",
    "        cost_list.append(c)\n",
    "        if step % (iteration//10) == 0:  # 전체 학습 중 10번만 비용함수/정확도 표시\n",
    "            print(\"Step : %i, cost : %s  acc : %s\" %(step, c, acc)) \n",
    "\n",
    "    plt.plot(cost_list, \"c\")\n",
    "    W3, b3, W4, b4 = sess.run([W1, b1, W2, b2],  feed_dict={x: x_data, y: y_data})"
   ]
  },
  {
   "cell_type": "markdown",
   "metadata": {
    "colab_type": "text",
    "id": "XG02J00YfoSi"
   },
   "source": [
    "- Accuracy : 1"
   ]
  },
  {
   "cell_type": "code",
   "execution_count": 7,
   "metadata": {
    "colab": {
     "base_uri": "https://localhost:8080/",
     "height": 170
    },
    "colab_type": "code",
    "executionInfo": {
     "elapsed": 834,
     "status": "ok",
     "timestamp": 1589152730061,
     "user": {
      "displayName": "지상민",
      "photoUrl": "",
      "userId": "15412183634561194315"
     },
     "user_tz": -540
    },
    "id": "PB2WaKUufoSi",
    "outputId": "b1f4e4d6-0d83-49b9-cc77-49f14d3f15b6"
   },
   "outputs": [
    {
     "name": "stdout",
     "output_type": "stream",
     "text": [
      "[[-0.86219555  4.7909036 ]\n",
      " [-0.61108917  4.7776623 ]]\n",
      "\n",
      "[ 0.04994126 -1.0567884 ]\n",
      "\n",
      "[[1.0983615]\n",
      " [4.134138 ]]\n",
      "\n",
      "[-3.7885597]\n"
     ]
    }
   ],
   "source": [
    "print(W3)\n",
    "print('')\n",
    "print(b3)\n",
    "print('')\n",
    "print(W4)\n",
    "print('')\n",
    "print(b4)"
   ]
  },
  {
   "cell_type": "markdown",
   "metadata": {
    "colab_type": "text",
    "id": "BaBa-KGRfoSl"
   },
   "source": [
    "## 3. Check the line"
   ]
  },
  {
   "cell_type": "code",
   "execution_count": 8,
   "metadata": {
    "colab": {
     "base_uri": "https://localhost:8080/",
     "height": 269
    },
    "colab_type": "code",
    "executionInfo": {
     "elapsed": 1139,
     "status": "ok",
     "timestamp": 1589152740659,
     "user": {
      "displayName": "지상민",
      "photoUrl": "",
      "userId": "15412183634561194315"
     },
     "user_tz": -540
    },
    "id": "8E7DIRlUfoSm",
    "outputId": "68feb5a2-9892-4689-b410-e8a47a021a28"
   },
   "outputs": [
    {
     "data": {
      "image/png": "[encoded data removed]",
      "text/plain": [
       "<Figure size 432x288 with 1 Axes>"
      ]
     },
     "metadata": {
      "needs_background": "light"
     },
     "output_type": "display_data"
    }
   ],
   "source": [
    "plt.axis([-0.5, 1.5, -0.5, 1.5])\n",
    "\n",
    "for i, j in enumerate(y_data):\n",
    "    if j == [0] : \n",
    "          plt.plot(x_data[i][0], x_data[i][1], \"ro\")\n",
    "    else :\n",
    "          plt.plot(x_data[i][0], x_data[i][1], \"bo\")\n",
    "\n",
    "x1 = np.linspace(-0.5,1.5, 30)\n",
    "plt.plot(x1,-W3[0][0]/W3[1][0]*x1-b3[0]/W3[1][0], \"g--\") \n",
    "plt.plot(x1,-W3[0][1]/W3[1][1]*x1-b3[1]/W3[1][1], \"b--\") \n",
    "plt.show()"
   ]
  },
  {
   "cell_type": "code",
   "execution_count": 9,
   "metadata": {
    "colab": {
     "base_uri": "https://localhost:8080/",
     "height": 265
    },
    "colab_type": "code",
    "executionInfo": {
     "elapsed": 4108,
     "status": "ok",
     "timestamp": 1589152749477,
     "user": {
      "displayName": "지상민",
      "photoUrl": "",
      "userId": "15412183634561194315"
     },
     "user_tz": -540
    },
    "id": "Xrr_pzXZfoSq",
    "outputId": "84c1243b-bc8f-4267-ca9d-6c9807a312d1"
   },
   "outputs": [
    {
     "data": {
      "image/png": "[encoded data removed]",
      "text/plain": [
       "<Figure size 432x288 with 1 Axes>"
      ]
     },
     "metadata": {
      "needs_background": "light"
     },
     "output_type": "display_data"
    }
   ],
   "source": [
    "# t_X : test data\n",
    "# x : 0~1\n",
    "# y : 0~1\n",
    "t_X = []\n",
    "for i in range(51):\n",
    "    for j in range(51):\n",
    "        t_X.append([(float(i))/50, (float(j))/50])\n",
    "        \n",
    "h = sess.run(H, feed_dict={x: t_X})\n",
    "for t in range(len(t_X)):\n",
    "    _x = np.array(t_X[t])\n",
    "    if h[t] > 0.5:\n",
    "        plt.plot(_x[0],_x[1],'ro')\n",
    "    else:\n",
    "        plt.plot(_x[0],_x[1],'bo')\n",
    "plt.show()"
   ]
  },
  {
   "cell_type": "markdown",
   "metadata": {
    "colab_type": "text",
    "id": "BvYyTt0CfoSt"
   },
   "source": [
    "- Final results"
   ]
  },
  {
   "cell_type": "code",
   "execution_count": 10,
   "metadata": {
    "colab": {
     "base_uri": "https://localhost:8080/",
     "height": 269
    },
    "colab_type": "code",
    "executionInfo": {
     "elapsed": 1141,
     "status": "ok",
     "timestamp": 1589152833083,
     "user": {
      "displayName": "지상민",
      "photoUrl": "",
      "userId": "15412183634561194315"
     },
     "user_tz": -540
    },
    "id": "dBDCDNEgfoSt",
    "outputId": "368d4d65-52c3-462e-c051-661cbce34828"
   },
   "outputs": [
    {
     "data": {
      "image/png": "[encoded data removed]",
      "text/plain": [
       "<Figure size 432x288 with 1 Axes>"
      ]
     },
     "metadata": {
      "needs_background": "light",
      "tags": []
     },
     "output_type": "display_data"
    }
   ],
   "source": [
    "\\def sigmoid(x):\n",
    "    return 1. / (1. + np.exp(-x))\n",
    "\n",
    "delta = 0.025\n",
    "x = np.arange(-6, 3, delta)\n",
    "y = np.arange(-6, 3, delta)\n",
    "p, q = np.meshgrid(x, y)\n",
    "# define some function f(n,x,y)\n",
    "f = lambda n, x, y: sigmoid(x*W3[0][0]+y*W3[1][0]+b3[0])*W4[0][0]+sigmoid(x*W3[0][1]+y*W3[1][1]+b3[1])*W4[1][0]+b4[0]\n",
    "z=f(1, p,q)\n",
    "\n",
    "# plot contour line of f(1,x,y)==0\n",
    "plt.contour(p, q, z , [0], colors=[\"k\"])\n",
    "\n",
    "for i, j in enumerate(y_data):\n",
    "    if j == [0] : \n",
    "          plt.plot(x_data[i][0], x_data[i][1], \"ro\")\n",
    "    else :\n",
    "          plt.plot(x_data[i][0], x_data[i][1], \"bo\")\n",
    "plt.xlim((-1,2))\n",
    "plt.ylim((-1,2))\n",
    "plt.show()  "
   ]
  }
 ],
 "metadata": {
  "colab": {
   "collapsed_sections": [],
   "name": "MOOC-Week10-1.ipynb",
   "provenance": []
  },
  "kernelspec": {
   "display_name": "Python 3",
   "language": "python",
   "name": "python3"
  },
  "language_info": {
   "codemirror_mode": {
    "name": "ipython",
    "version": 3
   },
   "file_extension": ".py",
   "mimetype": "text/x-python",
   "name": "python",
   "nbconvert_exporter": "python",
   "pygments_lexer": "ipython3",
   "version": "3.8.3"
  }
 },
 "nbformat": 4,
 "nbformat_minor": 1
}
