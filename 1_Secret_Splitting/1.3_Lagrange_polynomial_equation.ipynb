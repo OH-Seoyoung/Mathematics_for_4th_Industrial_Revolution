{
 "cells": [
  {
   "cell_type": "markdown",
   "metadata": {},
   "source": [
    "### 1. Plotting"
   ]
  },
  {
   "cell_type": "code",
   "execution_count": 1,
   "metadata": {
    "scrolled": true
   },
   "outputs": [
    {
     "data": {
      "application/vnd.jupyter.widget-view+json": {
       "model_id": "5615bbaa48114011befedb8010f51fe3",
       "version_major": 2,
       "version_minor": 0
      },
      "text/plain": [
       "Interactive function <function my_lag at 0x6fd32f03d08> with 3 widgets\n",
       "  a: IntSlider(value=0, description='a'…"
      ]
     },
     "metadata": {},
     "output_type": "display_data"
    }
   ],
   "source": [
    "@interact #세 점 (a, 1), (b, 0), (c, 0)을 지나는 다항식의 그래프\n",
    "def my_lag(a=0, b=1, c=2):\n",
    "    f = (x-b)*(x-c)/((a-b)*(a-c))\n",
    "    P = plot(f,(x,min(a, b, c)-1, max(a, b, c)+1), figsize=4)\n",
    "    Q = point([(a, 1), (b, 0), (c, 0)], color=\"red\")\n",
    "    (P+Q).show()"
   ]
  },
  {
   "cell_type": "markdown",
   "metadata": {},
   "source": [
    "### 2. Plotting with Lagrange equation\n",
    "- P : Lagrange equation, R : Basic polynomial constituting a lagrange polynomial, Q : three points"
   ]
  },
  {
   "cell_type": "code",
   "execution_count": 2,
   "metadata": {
    "scrolled": true
   },
   "outputs": [
    {
     "data": {
      "image/png": "[encoded data removed]",
      "text/plain": [
       "Graphics object consisting of 5 graphics primitives"
      ]
     },
     "metadata": {},
     "output_type": "display_data"
    }
   ],
   "source": [
    "#세 점 (0, 3), (1, 4), (2, 1)을 지나는 다항식의 그래프\n",
    "\n",
    "v = [(0, 3), (1, 4), (2, 1)]\n",
    "\n",
    "f1 = (x-v[1][0])*(x-v[2][0])/((v[0][0]-v[1][0])*(v[0][0]-v[2][0]))\n",
    "f2 = (x-v[0][0])*(x-v[2][0])/((v[1][0]-v[0][0])*(v[1][0]-v[2][0]))\n",
    "f3 = (x-v[0][0])*(x-v[1][0])/((v[2][0]-v[0][0])*(v[1][0]-v[0][0]))\n",
    "\n",
    "f = v[0][1]*f1 + v[1][1]*f2 + v[2][1]*f3\n",
    "\n",
    "P = plot(f,(x,min(v[0][0], v[1][0], v[2][0])-1, max(v[0][0], v[1][0], v[2][0])+1),\\\n",
    "   figsize=4)\n",
    "R = plot((f1, f2, f3),(x,min(v[0][0], v[1][0], v[2][0])-1, max(v[0][0], v[1][0], v[2][0])+1),\\\n",
    "   figsize=4, color=\"green\")\n",
    "Q = point(v, color=\"red\")\n",
    "\n",
    "(P+Q+R).show()"
   ]
  },
  {
   "cell_type": "markdown",
   "metadata": {},
   "source": [
    "### 3. 자연수 p로 나눈 나머지들의 곱셈표\n",
    "- 고정된 자연수 p로 나눈 나머지들 사이에서 라그랑지 다항식을 구현하려면 나눗셈이 가능해야 합니다.\n",
    "즉, 0이 아닌 나머지는 항상 곱해서 1이 되는 나머지가 있어야 합니다.  \n",
    "- 아래에서 자연수 p로 나눈 나머지들의 곱셈표를 보여줍니다.\n",
    "p가 소수인 경우와 그렇지 않은 경우(가령 8이나 10)에 첫번째 행과 열을 제외한 부분에서\n",
    "1이 항상 나오는지 그렇지 않은지 확인해보세요."
   ]
  },
  {
   "cell_type": "code",
   "execution_count": 3,
   "metadata": {
    "scrolled": true
   },
   "outputs": [
    {
     "name": "stdout",
     "output_type": "stream",
     "text": [
      "[0, 0, 0, 0, 0, 0, 0]\n",
      "[0, 1, 2, 3, 4, 5, 6]\n",
      "[0, 2, 4, 6, 1, 3, 5]\n",
      "[0, 3, 6, 2, 5, 1, 4]\n",
      "[0, 4, 1, 5, 2, 6, 3]\n",
      "[0, 5, 3, 1, 6, 4, 2]\n",
      "[0, 6, 5, 4, 3, 2, 1]\n"
     ]
    }
   ],
   "source": [
    "p=7\n",
    "v=[]\n",
    "for i in range(p):\n",
    "    v1=[]\n",
    "    for j in range(p):\n",
    "        v1.append(Mod(i*j, p))\n",
    "    v.append(v1)\n",
    "\n",
    "for i in range(p):\n",
    "    print(v[i])"
   ]
  },
  {
   "cell_type": "markdown",
   "metadata": {},
   "source": [
    "### 4. Shamir의 (3, 5) - 비밀공유방식\n",
    "    1. 먼저 주어진 비밀문장을 256진법을 이용하여 숫자 M으로 변환\n",
    "    2. 비밀 M보다 큰 소수 p 생성\n",
    "    3. 계수들이 p로 나눈 나머지(GF(p)의 원소)인 다항식들의 공간 R 생성\n",
    "    4. M을 상수항으로 하고 나머지 항들은 임의의 값인 2차식 f 생성\n",
    "    5. 5개의 비밀조각 (1, f(1)), (2, f(2)), (3, f(3)), (4, f(4)), (5, f(5)) 생성"
   ]
  },
  {
   "cell_type": "code",
   "execution_count": 4,
   "metadata": {},
   "outputs": [
    {
     "name": "stdout",
     "output_type": "stream",
     "text": [
      "p= 174637\n",
      "f= 50989*x^2 + 27291*x + 26952\n",
      "1 105232\n"
     ]
    },
    {
     "data": {
      "text/plain": [
       "(None, (2, 110853), (3, 43815), (4, 78755), (5, 41036))"
      ]
     },
     "execution_count": 4,
     "metadata": {},
     "output_type": "execute_result"
    }
   ],
   "source": [
    "s = 'Hi'\n",
    "M = sum(ord(s[i])*256^i for i in range(len(s))) #비밀문장을 숫자로 변환\n",
    "p = random_prime(M*10, M*2) #비밀 M보다 큰 소수\n",
    "print('p=', p)\n",
    "\n",
    "R.<x> = GF(p)[x]  # p로 나눈 나머지들을 계수로 갖고 x를 미지수로 하는 다항식들\n",
    "f = M  + Mod(ZZ.random_element(p),p)*x + Mod(ZZ.random_element(p),p)*x^2 \n",
    "# 상수항이 바로 비밀 M이고 나머지 항들은 임의의 수들로 만든 2차식\n",
    "\n",
    "print('f=', f)\n",
    "print (1, f(1)), (2, f(2)), (3, f(3)), (4, f(4)), (5, f(5))\n",
    "# 5개의 비밀조각"
   ]
  },
  {
   "cell_type": "code",
   "execution_count": 5,
   "metadata": {
    "scrolled": true
   },
   "outputs": [
    {
     "name": "stdout",
     "output_type": "stream",
     "text": [
      "24076*x^2 + 38465*x + 26952\n",
      "24076*x^2 + 38465*x + 26952\n"
     ]
    }
   ],
   "source": [
    "p=78607\n",
    "v=[(1, 10886), (2, 42972), (5, 35107)]\n",
    "R.<x> = GF(p)[x]\n",
    "\n",
    "s = Mod(10886, p)*(x-2)*(x-5)/Mod((1-2)*(1-5), p) \\\n",
    "+  Mod(42972, p)*(x-1)*(x-5)/Mod((2-1)*(2-5), p) \\\n",
    "+ Mod(35107, p)*(x-1)*(x-2)/Mod((5-1)*(5-2), p) \n",
    "\n",
    "print(s)\n",
    "\n",
    "f = R.lagrange_polynomial(v)\n",
    "print(f)"
   ]
  },
  {
   "cell_type": "markdown",
   "metadata": {},
   "source": [
    "### 5. Shamir의 (t, m) - 비밀공유방식(threshold scheme)"
   ]
  },
  {
   "cell_type": "code",
   "execution_count": 6,
   "metadata": {},
   "outputs": [
    {
     "data": {
      "text/plain": [
       "(3561640717507,\n",
       " 2906876683471*x^3 + 1977129518337*x^2 + 2695503948972*x + 478560413000,\n",
       " [(1, 934789128766),\n",
       "  (2, 1416692676990),\n",
       "  (3, 1557327570963),\n",
       "  (4, 989750323976),\n",
       "  (5, 2908658166827),\n",
       "  (6, 3385466895300),\n",
       "  (7, 2053233022686),\n",
       "  (8, 2106653779783)])"
      ]
     },
     "execution_count": 6,
     "metadata": {},
     "output_type": "execute_result"
    }
   ],
   "source": [
    "def Bimil2(s, t, m):   # t개 이상의 비밀조각이 모이면 비밀을 알아내는 코드\n",
    "    s = str(s) # 비밀은 문자열\n",
    "    M = sum(ord(s[i])*256^i for i in range(len(s))) # 비밀을 숫자로 바굼\n",
    "    p = random_prime(M*10, M*2)\n",
    "    R.<x> = GF(p)['x']  # p로 나눈 나머지들을 계수로 갖고 x를 미지수로 하는 다항식들\n",
    "    f = M   # 비밀은 상수항\n",
    "    \n",
    "    for i in range(1, t):\n",
    "        f = f + Mod(ZZ.random_element(p),p)*x^i # 나머지 항들은 임의의 수로\n",
    "    \n",
    "    v=[]\n",
    "    for i in range(1, m+1):\n",
    "        v.append((i, f(i)))\n",
    "        \n",
    "    return p, f, v\n",
    "\n",
    "Bimil2('Hello', 4, 8)"
   ]
  },
  {
   "cell_type": "code",
   "execution_count": 7,
   "metadata": {},
   "outputs": [
    {
     "data": {
      "text/plain": [
       "'Hello'"
      ]
     },
     "execution_count": 7,
     "metadata": {},
     "output_type": "execute_result"
    }
   ],
   "source": [
    "def Bomul2(p, v): \n",
    "   \n",
    "    R.<x> = GF(p)['x'] # p로 나눈 나머지들을 계수로 갖고 x를 미지수로 하는 다항식들\n",
    "    f = R.lagrange_polynomial(v); \n",
    "    M = lift(f(0)) \n",
    "    \n",
    "    v=[]\n",
    "    while M != 0:\n",
    "        v.append(chr(M % 256))\n",
    "        M = M//256 # this replaces n by floor(n/256).\n",
    "    return ''.join(v)\n",
    "\n",
    "\n",
    "Bomul2(4389394056821,  [(3, 3100430341689),  (4, 1061722902032),  (5, 3419208830193)])"
   ]
  }
 ],
 "metadata": {
  "kernelspec": {
   "display_name": "SageMath 9.1",
   "language": "sage",
   "name": "sagemath"
  },
  "language_info": {
   "codemirror_mode": {
    "name": "ipython",
    "version": 3
   },
   "file_extension": ".py",
   "mimetype": "text/x-python",
   "name": "python",
   "nbconvert_exporter": "python",
   "pygments_lexer": "ipython3",
   "version": "3.7.3"
  }
 },
 "nbformat": 4,
 "nbformat_minor": 2
}
