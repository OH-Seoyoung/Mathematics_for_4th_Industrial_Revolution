{
 "cells": [
  {
   "cell_type": "markdown",
   "metadata": {},
   "source": [
    "### 1. 문장을 숫자로 변환하기\n",
    "- ord()라는 명령은 주어진 입력의 문자를 이에 대응하는 ASCII 숫자로 바꿔주는 명령입니다."
   ]
  },
  {
   "cell_type": "code",
   "execution_count": 4,
   "metadata": {
    "scrolled": true
   },
   "outputs": [
    {
     "data": {
      "application/vnd.jupyter.widget-view+json": {
       "model_id": "ac0be5b061894ec7908cbfb6ca11252e",
       "version_major": 2,
       "version_minor": 0
      },
      "text/plain": [
       "Interactive function <function encode at 0x6fd32bc31e0> with 1 widget\n",
       "  s: Text(value='I am your father.', des…"
      ]
     },
     "metadata": {},
     "output_type": "display_data"
    }
   ],
   "source": [
    "@interact\n",
    "def encode(s=('문자열', 'I am your father.')):\n",
    "    s = str(s) # 입력은 문자열\n",
    "    print(sum(ord(s[i])*256^i for i in range(len(s)))) # 256진법을 이용"
   ]
  },
  {
   "cell_type": "markdown",
   "metadata": {},
   "source": [
    "### 2. 숫자를 문장으로 변환하기\n",
    "- chr()라는 명령은 주어진 숫자를 이에 대응하는 ASCII 문자로 바꿔주는 명령입니다.\n",
    "- ' '.join(v): v라는 list의 원소들을 이어서 하나의 문자열(string)로 만들어주는 명령입니다."
   ]
  },
  {
   "cell_type": "code",
   "execution_count": 5,
   "metadata": {
    "scrolled": true
   },
   "outputs": [
    {
     "data": {
      "application/vnd.jupyter.widget-view+json": {
       "model_id": "e2dcc411ff134739a43564588b59a5e0",
       "version_major": 2,
       "version_minor": 0
      },
      "text/plain": [
       "Interactive function <function decode at 0x6fd32b60268> with 1 widget\n",
       "  n: IntSlider(value=109270098602051, de…"
      ]
     },
     "metadata": {},
     "output_type": "display_data"
    }
   ],
   "source": [
    "@interact    \n",
    "def decode(n=('숫자', 109270098602051)):\n",
    "    n = Integer(n) # 입력은 숫자\n",
    "    v = []\n",
    "    while n != 0:\n",
    "        v.append(chr(n % 256)) # 각 자리 숫자를 구해서 거기에 대응하는 문자로 바꿈\n",
    "        n = n//256    # n을 256으로 나눈 몫으로 바꿈\n",
    "    print(''.join(v))  # 문자들의 리스트를 문자열로"
   ]
  },
  {
   "cell_type": "markdown",
   "metadata": {},
   "source": [
    "### 3. 비밀 나누기(두개의 비밀조각으로)\n",
    "- Mod(5, 3)은 5를 3으로 나눈 나머지를 나타내는 명령입니다. (주의: 정수 2와 다름)"
   ]
  },
  {
   "cell_type": "code",
   "execution_count": 7,
   "metadata": {
    "scrolled": true
   },
   "outputs": [
    {
     "data": {
      "application/vnd.jupyter.widget-view+json": {
       "model_id": "b18148f3c57d4055b7dc1d62aaaf314d",
       "version_major": 2,
       "version_minor": 0
      },
      "text/plain": [
       "Interactive function <function Bimil at 0x6fd32b47400> with 1 widget\n",
       "  M: IntSlider(value=7777, description='비…"
      ]
     },
     "metadata": {},
     "output_type": "display_data"
    }
   ],
   "source": [
    "@interact\n",
    "def Bimil(M=('비밀번호', 7777)):\n",
    "    M = int(M) # 비밀 M은 숫자\n",
    "    r = ZZ.random_element(10000) # 0과 10000 사이의 임의의 정수\n",
    "    print(Mod(r, 10000), Mod(M-r, 10000))"
   ]
  },
  {
   "cell_type": "markdown",
   "metadata": {},
   "source": [
    "### 4. 비밀 나누기(여러개의 비밀조각으로)\n",
    "- Bimil()의 첫번째 입력 s가 비밀문장이고 두번째 입력 m은 비밀조각의 갯수  \n",
    "\n",
    "    1. 먼저 비밀문장을 숫자 M으로 바꾸고 그 숫자 M보다 큰 n을 (10*M과 100*M 사이에서) 정합니다.  \n",
    "(모든 비밀과 비밀조각은 n으로 나눈 나머지로 봅니다, 보통는 n을 먼저잡고 비밀문장이 n을 안 넘도록 하죠.)\n",
    "    2. m-1개의 임의의 비밀조각 r을 생성해서 list p에 저장하고\n",
    "    3. 마지막으로 비밀 M에서 각 비밀조각r을 빼서 마지막 비밀조각을 만듭니다\n",
    "    4. 최종적으로 n과 비밀조각들의 list p를 출력(return)합니다."
   ]
  },
  {
   "cell_type": "code",
   "execution_count": 11,
   "metadata": {
    "scrolled": true
   },
   "outputs": [
    {
     "data": {
      "text/plain": [
       "(1023612490438071677333795037812851180280909,\n",
       " [622520562730878161910134739875548279114820,\n",
       "  661304438343996793252403195364940019365992,\n",
       "  774781356441752770367486794822307548517431])"
      ]
     },
     "execution_count": 11,
     "metadata": {},
     "output_type": "execute_result"
    }
   ],
   "source": [
    "def Bimil(s, m):\n",
    "    s = str(s) # 입력은 문자열\n",
    "    M = sum(ord(s[i])*256^i for i in range(len(s))) # 비밀을 숫자로 바꿈\n",
    "\n",
    "    n = ZZ.random_element(10*M, 100*M) # 법 n은 비밀보다 큰 값으로\n",
    "    p = []                             # 비밀조각들 저장\n",
    "    for _ in range(m-1):\n",
    "        r = ZZ.random_element(n)\n",
    "        p.append(Mod(r,n))\n",
    "        M = M-r\n",
    "    p.append(Mod(M, n))\n",
    "    return n, p\n",
    "\n",
    "Bimil('I am your father!', 3)"
   ]
  },
  {
   "cell_type": "markdown",
   "metadata": {},
   "source": [
    "### 5. 원래의 비밀문장 다시 만들기  \n",
    "\n",
    "    1. p의 각 비밀조각들을 더해서 (만약 n보다 크면 다시 n으로 나눈 나머지로 바꾸고)\n",
    "    2. Mod(5,3)은 (정수처럼 보이지만) 정수가 아니므로 lift()라는 명령어로 정수로 바꿔줍니다.\n",
    "    3. 앞에서 나온 것처럼 숫자를 다시 문장으로 바꿔서 출력(return)합니다."
   ]
  },
  {
   "cell_type": "code",
   "execution_count": 13,
   "metadata": {},
   "outputs": [
    {
     "data": {
      "text/plain": [
       "'I am your father!'"
      ]
     },
     "execution_count": 13,
     "metadata": {},
     "output_type": "execute_result"
    }
   ],
   "source": [
    "def Bomul(n, p): \n",
    "    M = lift(sum(Mod(p[i], n) for i in range(len(p)))) # Python에서는 반복문을 명령문 안에 넣어도 됨\n",
    "    v = [] \n",
    "    while M != 0:\n",
    "        v.append(chr(M % 256))\n",
    "        M = M//256       # n을 256으로 나눈 몫으로 바꿈\n",
    "    return ''.join(v)\n",
    "\n",
    "Bomul(922033127743371296060956261409257452858189,\n",
    " [678625642288369428166494927671167864809767,\n",
    "  579201577218120310868039694783725730138490,\n",
    "  597620412620737223949812554800714797204546])"
   ]
  }
 ],
 "metadata": {
  "kernelspec": {
   "display_name": "SageMath 9.1",
   "language": "sage",
   "name": "sagemath"
  },
  "language_info": {
   "codemirror_mode": {
    "name": "ipython",
    "version": 3
   },
   "file_extension": ".py",
   "mimetype": "text/x-python",
   "name": "python",
   "nbconvert_exporter": "python",
   "pygments_lexer": "ipython3",
   "version": "3.7.3"
  }
 },
 "nbformat": 4,
 "nbformat_minor": 2
}
