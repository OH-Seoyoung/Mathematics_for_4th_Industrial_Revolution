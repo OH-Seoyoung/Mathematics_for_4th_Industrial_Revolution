{
 "cells": [
  {
   "cell_type": "code",
   "execution_count": 14,
   "metadata": {},
   "outputs": [
    {
     "name": "stdout",
     "output_type": "stream",
     "text": [
      "[1] sqrt(2)\n",
      "[2] 1.41421356237310\n",
      "[3] 1.41421356237310\n",
      "[4] 3.141592653589793238462643383279502884197169399375105820974944592307816406286208998628034825342117068\n"
     ]
    }
   ],
   "source": [
    "# Approximation\n",
    "print(\"[1]\", sqrt(2))  \n",
    "print(\"[2]\", sqrt(2.0))\n",
    "print(\"[3]\", n(sqrt(2)))\n",
    "print(\"[4]\", n(pi, digits = 100))"
   ]
  },
  {
   "cell_type": "code",
   "execution_count": 15,
   "metadata": {},
   "outputs": [
    {
     "name": "stdout",
     "output_type": "stream",
     "text": [
      "2 1\n"
     ]
    }
   ],
   "source": [
    "# quotient, remainder\n",
    "print(201//100, 201%100)  "
   ]
  },
  {
   "cell_type": "code",
   "execution_count": 7,
   "metadata": {},
   "outputs": [
    {
     "name": "stdout",
     "output_type": "stream",
     "text": [
      "1\n",
      "4\n",
      "9\n",
      "16\n",
      "25\n",
      "36\n",
      "49\n",
      "64\n",
      "81\n",
      "100\n"
     ]
    }
   ],
   "source": [
    "# for\n",
    "for i in range(1,101) : \n",
    "    if is_square(i) : \n",
    "        print(i)"
   ]
  },
  {
   "cell_type": "code",
   "execution_count": 8,
   "metadata": {},
   "outputs": [
    {
     "name": "stdout",
     "output_type": "stream",
     "text": [
      "3 2\n",
      "17 12\n",
      "99 70\n"
     ]
    }
   ],
   "source": [
    "# if\n",
    "for x in range(1, 101) : \n",
    "    for y in range(1, 101) : \n",
    "        if x^2 - 2*y^2 == 1 : \n",
    "            print(x, y)"
   ]
  },
  {
   "cell_type": "code",
   "execution_count": 9,
   "metadata": {},
   "outputs": [
    {
     "name": "stdout",
     "output_type": "stream",
     "text": [
      "False\n"
     ]
    }
   ],
   "source": [
    "# function\n",
    "def is_even(n) : \n",
    "    return n%2 == 0\n",
    "print(is_even(3))"
   ]
  },
  {
   "cell_type": "code",
   "execution_count": 10,
   "metadata": {},
   "outputs": [
    {
     "name": "stdout",
     "output_type": "stream",
     "text": [
      "False\n"
     ]
    }
   ],
   "source": [
    "def is_divisible_by(number, divisor = 2) :\n",
    "    return number % divisor == 0\n",
    "print(is_divisible_by(5,3))"
   ]
  },
  {
   "cell_type": "code",
   "execution_count": 11,
   "metadata": {},
   "outputs": [
    {
     "data": {
      "text/plain": [
       "[2, 4, 6, 8]"
      ]
     },
     "execution_count": 11,
     "metadata": {},
     "output_type": "execute_result"
    }
   ],
   "source": [
    "def even(n) : \n",
    "    v = []\n",
    "    for i in range(1, n) : \n",
    "        if i % 2 == 0:\n",
    "            v.append(i)\n",
    "    return v\n",
    "even(10)"
   ]
  },
  {
   "cell_type": "code",
   "execution_count": 12,
   "metadata": {},
   "outputs": [
    {
     "data": {
      "text/plain": [
       "2"
      ]
     },
     "execution_count": 12,
     "metadata": {},
     "output_type": "execute_result"
    }
   ],
   "source": [
    "def Cha(a, b) : \n",
    "    if a > b : \n",
    "        return a - b\n",
    "    else : \n",
    "        return b - a\n",
    "Cha(5, 7)    "
   ]
  },
  {
   "cell_type": "code",
   "execution_count": 13,
   "metadata": {},
   "outputs": [],
   "source": [
    "# Mod(5,2) % 4   # error"
   ]
  },
  {
   "cell_type": "code",
   "execution_count": 16,
   "metadata": {
    "scrolled": true
   },
   "outputs": [
    {
     "name": "stderr",
     "output_type": "stream",
     "text": [
      "/opt/sagemath-9.1/local/lib/python3.7/site-packages/docutils/writers/latex2e/__init__.py:2978: DeprecationWarning: invalid escape sequence \\l\n",
      "  self.out.append('}] \\leavevmode ')\n"
     ]
    }
   ],
   "source": [
    "tan?"
   ]
  }
 ],
 "metadata": {
  "kernelspec": {
   "display_name": "SageMath 9.1",
   "language": "sage",
   "name": "sagemath"
  },
  "language_info": {
   "codemirror_mode": {
    "name": "ipython",
    "version": 3
   },
   "file_extension": ".py",
   "mimetype": "text/x-python",
   "name": "python",
   "nbconvert_exporter": "python",
   "pygments_lexer": "ipython3",
   "version": "3.7.3"
  }
 },
 "nbformat": 4,
 "nbformat_minor": 2
}
