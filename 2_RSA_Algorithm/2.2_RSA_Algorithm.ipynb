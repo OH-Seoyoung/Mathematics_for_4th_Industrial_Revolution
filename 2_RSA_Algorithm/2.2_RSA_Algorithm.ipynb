{
 "cells": [
  {
   "cell_type": "markdown",
   "metadata": {},
   "source": [
    "## RSA Algorithm"
   ]
  },
  {
   "cell_type": "markdown",
   "metadata": {},
   "source": [
    "### 1. RSA 공개키 생성\n",
    "- 편의상 비밀키도 같이 생성\n",
    "- 1024비트 이상일 경우 p, q값이 소수인지 판정이 오래걸려 완벽하게 소수인지 판정 X"
   ]
  },
  {
   "cell_type": "code",
   "execution_count": 1,
   "metadata": {},
   "outputs": [
    {
     "data": {
      "application/vnd.jupyter.widget-view+json": {
       "model_id": "0772a76517864356b18e0f03a3de703b",
       "version_major": 2,
       "version_minor": 0
      },
      "text/plain": [
       "Interactive function <function rsa at 0x6fd42cc3f28> with 1 widget\n",
       "  bits: IntSlider(value=50, description='bi…"
      ]
     },
     "metadata": {},
     "output_type": "display_data"
    }
   ],
   "source": [
    "@interact\n",
    "def rsa(bits=50):\n",
    "    # only prove correctness up to 1024 bits\n",
    "    proof = (bits <= 1024)  # bits : n값의 대략적인 2진법 자릿수\n",
    "    \n",
    "    # next_prime(11) : 11 다음에 오는 첫 소수\n",
    "    p = next_prime(ZZ.random_element(2**(bits//2 +1)), proof=proof)\n",
    "    q = next_prime(ZZ.random_element(2**(bits//2 +1)), proof=proof)\n",
    "    n = p * q\n",
    "    phi_n = (p-1) * (q-1)\n",
    "    while True:\n",
    "        e = ZZ.random_element(1,phi_n)\n",
    "        if gcd(e,phi_n) == 1: break\n",
    "    d = lift(Mod(e,phi_n)^(-1))\n",
    "    print('(e,d,n)=',(e, d, n))"
   ]
  },
  {
   "cell_type": "markdown",
   "metadata": {},
   "source": [
    "### 2. RSA 암호화 과정\n",
    "- 공개된 (n, e)값을 이용하여 보내고 싶은 메시지를 암호화\n",
    "- 문장 s를 숫자 m으로 바꾼 후, m^e을 n으로 나눈 나머지를 계산 -> 암호문 c"
   ]
  },
  {
   "cell_type": "code",
   "execution_count": 2,
   "metadata": {},
   "outputs": [
    {
     "data": {
      "application/vnd.jupyter.widget-view+json": {
       "model_id": "0399d72bbdee47f9ad25eaaf9f3c1414",
       "version_major": 2,
       "version_minor": 0
      },
      "text/plain": [
       "Interactive function <function encode at 0x6fd42cc3ea0> with 3 widgets\n",
       "  s: Text(value='ChiMac', description='…"
      ]
     },
     "metadata": {},
     "output_type": "display_data"
    }
   ],
   "source": [
    "@interact\n",
    "def encode(s='ChiMac', e = 105335554999339, n = 197896850289847):\n",
    "    s = str(s)\n",
    "    m = sum(ord(s[i])*256^i for i in range(len(s)))\n",
    "\n",
    "    print('c=', Mod(m, n)^e)"
   ]
  },
  {
   "cell_type": "markdown",
   "metadata": {},
   "source": [
    "### 3. RSA 복호화 과정\n",
    "- RSA 암호문 c를 복호문 숫자 m으로 바꾸고 이를 다시 문장으로 바꿈"
   ]
  },
  {
   "cell_type": "code",
   "execution_count": 3,
   "metadata": {},
   "outputs": [
    {
     "data": {
      "application/vnd.jupyter.widget-view+json": {
       "model_id": "ed7d53a206ca4d4c958de01b7da3f98f",
       "version_major": 2,
       "version_minor": 0
      },
      "text/plain": [
       "Interactive function <function decrypt at 0x6fd42913620> with 3 widgets\n",
       "  d: IntSlider(value=176540783713219, …"
      ]
     },
     "metadata": {},
     "output_type": "display_data"
    }
   ],
   "source": [
    "@interact\n",
    "def decrypt(d = 176540783713219, n = 197896850289847, c = 118897263754188):\n",
    "    m = lift(Mod(c, n)^d)\n",
    "    v = []\n",
    "    while m != 0:\n",
    "        v.append(chr(m % 256))\n",
    "        m //= 256 # this replaces m by floor(m/256).\n",
    "    print(''.join(v))"
   ]
  }
 ],
 "metadata": {
  "kernelspec": {
   "display_name": "SageMath 9.1",
   "language": "sage",
   "name": "sagemath"
  },
  "language_info": {
   "codemirror_mode": {
    "name": "ipython",
    "version": 3
   },
   "file_extension": ".py",
   "mimetype": "text/x-python",
   "name": "python",
   "nbconvert_exporter": "python",
   "pygments_lexer": "ipython3",
   "version": "3.7.3"
  }
 },
 "nbformat": 4,
 "nbformat_minor": 2
}
