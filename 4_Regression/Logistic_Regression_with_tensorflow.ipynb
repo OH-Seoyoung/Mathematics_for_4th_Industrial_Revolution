{
 "cells": [
  {
   "cell_type": "markdown",
   "metadata": {
    "colab_type": "text",
    "id": "oFj53RN4ffo-"
   },
   "source": [
    "## 0. Import Packages"
   ]
  },
  {
   "cell_type": "code",
   "execution_count": 5,
   "metadata": {
    "colab": {
     "base_uri": "https://localhost:8080/",
     "height": 34
    },
    "colab_type": "code",
    "executionInfo": {
     "elapsed": 685,
     "status": "ok",
     "timestamp": 1589151480228,
     "user": {
      "displayName": "지상민",
      "photoUrl": "",
      "userId": "15412183634561194315"
     },
     "user_tz": -540
    },
    "id": "IQc_JIBkw1cK",
    "outputId": "d5bd0efb-7534-4ec3-e7c1-ca8fb652b3d2"
   },
   "outputs": [
    {
     "name": "stdout",
     "output_type": "stream",
     "text": [
      "2.3.0\n"
     ]
    }
   ],
   "source": [
    "import tensorflow.compat.v1 as tf\n",
    "print(tf.__version__)\n",
    "import numpy as np\n",
    "import tensorflow.compat.v1 as tf"
   ]
  },
  {
   "cell_type": "code",
   "execution_count": 7,
   "metadata": {
    "colab": {
     "base_uri": "https://localhost:8080/",
     "height": 34
    },
    "colab_type": "code",
    "executionInfo": {
     "elapsed": 892,
     "status": "ok",
     "timestamp": 1589151481213,
     "user": {
      "displayName": "지상민",
      "photoUrl": "",
      "userId": "15412183634561194315"
     },
     "user_tz": -540
    },
    "id": "2P_uw_TPffpE",
    "outputId": "675a9a8c-e2ef-40dc-d943-6ad202dee927"
   },
   "outputs": [
    {
     "name": "stdout",
     "output_type": "stream",
     "text": [
      "tf.Tensor(3.0, shape=(), dtype=float32) tf.Tensor(4.0, shape=(), dtype=float32)\n"
     ]
    }
   ],
   "source": [
    "node1 = tf.constant(3.0, dtype=tf.float32)\n",
    "node2 = tf.constant(4.0) \n",
    "print(node1, node2)"
   ]
  },
  {
   "cell_type": "code",
   "execution_count": 8,
   "metadata": {
    "colab": {
     "base_uri": "https://localhost:8080/",
     "height": 34
    },
    "colab_type": "code",
    "executionInfo": {
     "elapsed": 478,
     "status": "ok",
     "timestamp": 1589151481675,
     "user": {
      "displayName": "지상민",
      "photoUrl": "",
      "userId": "15412183634561194315"
     },
     "user_tz": -540
    },
    "id": "ypg3xMBAffpK",
    "outputId": "4d94b706-4977-45f0-f277-59840fa5f111"
   },
   "outputs": [
    {
     "name": "stdout",
     "output_type": "stream",
     "text": [
      "[3.0, 4.0]\n"
     ]
    }
   ],
   "source": [
    "with tf.Session() as sess:\n",
    "    node1 = tf.constant(3.0, dtype=tf.float32)\n",
    "    node2 = tf.constant(4.0) \n",
    "    print(sess.run([node1, node2]))"
   ]
  },
  {
   "cell_type": "code",
   "execution_count": 9,
   "metadata": {
    "colab": {
     "base_uri": "https://localhost:8080/",
     "height": 51
    },
    "colab_type": "code",
    "executionInfo": {
     "elapsed": 602,
     "status": "ok",
     "timestamp": 1589151503815,
     "user": {
      "displayName": "지상민",
      "photoUrl": "",
      "userId": "15412183634561194315"
     },
     "user_tz": -540
    },
    "id": "N85Cvr6sffpP",
    "outputId": "e2f332ea-9eb4-43c7-dec1-33433345b8f4"
   },
   "outputs": [
    {
     "name": "stdout",
     "output_type": "stream",
     "text": [
      "Tensor(\"add:0\", shape=(), dtype=float32)\n",
      "7.0\n"
     ]
    }
   ],
   "source": [
    "with tf.Session() as sess:\n",
    "    node3 = node1 + node2\n",
    "    print(node3)\n",
    "    print(sess.run(node3))  ## need"
   ]
  },
  {
   "cell_type": "code",
   "execution_count": 12,
   "metadata": {
    "colab": {
     "base_uri": "https://localhost:8080/",
     "height": 51
    },
    "colab_type": "code",
    "executionInfo": {
     "elapsed": 780,
     "status": "ok",
     "timestamp": 1589151564815,
     "user": {
      "displayName": "지상민",
      "photoUrl": "",
      "userId": "15412183634561194315"
     },
     "user_tz": -540
    },
    "id": "Gt3-jhmAffpU",
    "outputId": "2f784a8e-624e-42da-92b1-9443e5da2aaf"
   },
   "outputs": [
    {
     "name": "stdout",
     "output_type": "stream",
     "text": [
      "7.5\n",
      "[3. 7.]\n"
     ]
    }
   ],
   "source": [
    "with tf.Session() as sess:\n",
    "    a = tf.placeholder(tf.float32)\n",
    "    b = tf.placeholder(tf.float32)\n",
    "    adder_node = a + b\n",
    "    print(sess.run(adder_node, feed_dict={a: 3, b: 4.5}))\n",
    "    print(sess.run(adder_node, {a: [1, 3], b: [2, 4]}))"
   ]
  },
  {
   "cell_type": "code",
   "execution_count": 14,
   "metadata": {
    "colab": {
     "base_uri": "https://localhost:8080/",
     "height": 34
    },
    "colab_type": "code",
    "executionInfo": {
     "elapsed": 1564,
     "status": "ok",
     "timestamp": 1589151612422,
     "user": {
      "displayName": "지상민",
      "photoUrl": "",
      "userId": "15412183634561194315"
     },
     "user_tz": -540
    },
    "id": "Uppd0XBjffpc",
    "outputId": "48aebd1b-1637-465f-92cd-d735611b18e5"
   },
   "outputs": [
    {
     "name": "stdout",
     "output_type": "stream",
     "text": [
      "[6.]\n"
     ]
    }
   ],
   "source": [
    "with tf.Session() as sess:\n",
    "    W = tf.Variable([3.0], dtype=tf.float32)  # Variable : changeable during training\n",
    "    b = tf.Variable([-3.0], dtype=tf.float32)\n",
    "    x = tf.placeholder(tf.float32)\n",
    "\n",
    "    H = W*x+b\n",
    "\n",
    "    init = tf.global_variables_initializer()\n",
    "    sess.run(init)\n",
    "\n",
    "    print(sess.run(H, {x:3}))"
   ]
  },
  {
   "cell_type": "code",
   "execution_count": 15,
   "metadata": {
    "colab": {
     "base_uri": "https://localhost:8080/",
     "height": 51
    },
    "colab_type": "code",
    "executionInfo": {
     "elapsed": 608,
     "status": "ok",
     "timestamp": 1589151629014,
     "user": {
      "displayName": "지상민",
      "photoUrl": "",
      "userId": "15412183634561194315"
     },
     "user_tz": -540
    },
    "id": "2obmqZK5ffpg",
    "outputId": "2de204ae-7a63-40e0-bb8d-6b9096557982"
   },
   "outputs": [
    {
     "name": "stdout",
     "output_type": "stream",
     "text": [
      "[ 1.  4.  9. 16.]\n",
      "2.5\n"
     ]
    }
   ],
   "source": [
    "with tf.Session() as sess:\n",
    "    print(sess.run(tf.square([1., 2., 3., 4.])))\n",
    "    print(sess.run(tf.reduce_mean([1., 2., 3., 4.])))"
   ]
  },
  {
   "cell_type": "markdown",
   "metadata": {},
   "source": [
    "## 2. Linear Regression"
   ]
  },
  {
   "cell_type": "code",
   "execution_count": 18,
   "metadata": {
    "colab": {
     "base_uri": "https://localhost:8080/",
     "height": 34
    },
    "colab_type": "code",
    "executionInfo": {
     "elapsed": 660,
     "status": "ok",
     "timestamp": 1589151729715,
     "user": {
      "displayName": "지상민",
      "photoUrl": "",
      "userId": "15412183634561194315"
     },
     "user_tz": -540
    },
    "id": "loKTzeaiffpm",
    "outputId": "75e9eb16-5af4-4bfb-de59-8001f134746f"
   },
   "outputs": [
    {
     "name": "stdout",
     "output_type": "stream",
     "text": [
      "Score Prediction: [12.712172]\n"
     ]
    }
   ],
   "source": [
    "x_data = [1, 2, 3]\n",
    "y_data = [4.1, 6.9, 9.9]\n",
    "\n",
    "with tf.Session() as sess:\n",
    "    W = tf.Variable([.0], dtype=tf.float32)\n",
    "    b = tf.Variable([.0], dtype=tf.float32)\n",
    "\n",
    "    x = tf.placeholder(tf.float32)\n",
    "    y = tf.placeholder(tf.float32)\n",
    "    a = 0.05 # learning rate\n",
    "    H = W*x + b\n",
    "    cost = tf.reduce_mean(tf.square(H - y)) # cost\n",
    "\n",
    "    optimizer = tf.train.GradientDescentOptimizer(a) \n",
    "    train = optimizer.minimize(cost) \n",
    "\n",
    "    init = tf.global_variables_initializer()\n",
    "    sess.run(init)\n",
    "\n",
    "    for i in range(20):\n",
    "        sess.run(train,  {x: x_data, y: y_data})\n",
    "\n",
    "    print('Score Prediction:', sess.run(H, {x: 4}))    \n"
   ]
  },
  {
   "cell_type": "markdown",
   "metadata": {
    "colab_type": "text",
    "id": "zmF4ji3Affpp"
   },
   "source": [
    "## 3. Multi-Variable Linear regression"
   ]
  },
  {
   "cell_type": "code",
   "execution_count": 20,
   "metadata": {
    "colab": {
     "base_uri": "https://localhost:8080/",
     "height": 221
    },
    "colab_type": "code",
    "executionInfo": {
     "elapsed": 1313,
     "status": "ok",
     "timestamp": 1589151814471,
     "user": {
      "displayName": "지상민",
      "photoUrl": "",
      "userId": "15412183634561194315"
     },
     "user_tz": -540
    },
    "id": "SR8D1uh-ffpq",
    "outputId": "f4473523-1af4-4519-f86d-8002066fbb28"
   },
   "outputs": [
    {
     "name": "stdout",
     "output_type": "stream",
     "text": [
      "Iteration: 0 Cost: 19.306734\n",
      "Iteration: 100 Cost: 0.33918408\n",
      "Iteration: 200 Cost: 0.20973368\n",
      "Iteration: 300 Cost: 0.12994206\n",
      "Iteration: 400 Cost: 0.08075841\n",
      "Iteration: 500 Cost: 0.050441224\n",
      "Iteration: 600 Cost: 0.031752724\n",
      "Iteration: 700 Cost: 0.02023192\n",
      "Iteration: 800 Cost: 0.013128984\n",
      "Iteration: 900 Cost: 0.008749183\n",
      "\n",
      "Price Prediction: [[4.215914]]\n"
     ]
    }
   ],
   "source": [
    "x_data = [[30, 1, 5], [20, 2, 10], [40, 3, 15]]\n",
    "y_data = [[6.1], [3.1], [6.8]]\n",
    "\n",
    "with tf.Session() as sess:\n",
    "    W = tf.Variable([[.0], [.0], [.0]], dtype=tf.float32)\n",
    "    b = tf.Variable([.0], dtype=tf.float32)\n",
    "\n",
    "    x = tf.placeholder(shape=[None, 3], dtype=tf.float32)\n",
    "    y = tf.placeholder(shape=[None, 1], dtype=tf.float32)\n",
    "    a = 1e-4  \n",
    "    H = tf.matmul(x, W) + b \n",
    "    \n",
    "    cost = tf.reduce_mean(tf.square(H - y)) \n",
    "    optimizer = tf.train.GradientDescentOptimizer(a) \n",
    "    train = optimizer.minimize(cost) \n",
    "\n",
    "    sess = tf.Session()\n",
    "    init = tf.global_variables_initializer()\n",
    "    sess.run(init)\n",
    "\n",
    "    for t in range(1000):\n",
    "        sess.run(train,  {x: x_data, y: y_data})\n",
    "        if t % 100 == 0:\n",
    "            c = sess.run(cost, {x: x_data, y: y_data})\n",
    "            print('Iteration:', t, 'Cost:', c)\n",
    "\n",
    "    print('')\n",
    "    x_test = [[25, 2, 10]]\n",
    "\n",
    "    print('Price Prediction:', sess.run(H, {x: x_test}))    "
   ]
  },
  {
   "cell_type": "markdown",
   "metadata": {
    "colab_type": "text",
    "id": "iLrEx4P3ffpu"
   },
   "source": [
    "- tf.cast() : Change data type"
   ]
  },
  {
   "cell_type": "code",
   "execution_count": 21,
   "metadata": {
    "colab": {
     "base_uri": "https://localhost:8080/",
     "height": 68
    },
    "colab_type": "code",
    "executionInfo": {
     "elapsed": 631,
     "status": "ok",
     "timestamp": 1589151828131,
     "user": {
      "displayName": "지상민",
      "photoUrl": "",
      "userId": "15412183634561194315"
     },
     "user_tz": -540
    },
    "id": "jnX37hxoffpv",
    "outputId": "631c6d79-4d66-43f8-f5e7-ecada7fe234d"
   },
   "outputs": [
    {
     "name": "stdout",
     "output_type": "stream",
     "text": [
      "False\n",
      "0.0\n",
      "1.0\n"
     ]
    }
   ],
   "source": [
    "with tf.Session() as sess:\n",
    "  print(2 > 5)\n",
    "  print(sess.run(tf.cast(2 > 5, dtype=tf.float32)))\n",
    "  print(sess.run(tf.cast(2 < 5, dtype=tf.float32)))"
   ]
  },
  {
   "cell_type": "markdown",
   "metadata": {
    "colab_type": "text",
    "id": "dE7xNOwYffpz"
   },
   "source": [
    "## 4. Logistic Regression"
   ]
  },
  {
   "cell_type": "code",
   "execution_count": 1,
   "metadata": {
    "colab": {
     "base_uri": "https://localhost:8080/",
     "height": 1000
    },
    "colab_type": "code",
    "executionInfo": {
     "elapsed": 2629,
     "status": "ok",
     "timestamp": 1589151886054,
     "user": {
      "displayName": "지상민",
      "photoUrl": "",
      "userId": "15412183634561194315"
     },
     "user_tz": -540
    },
    "id": "K_v-bgumffp1",
    "outputId": "aebef629-8ab2-4421-dcd1-b2dc46efbe88",
    "scrolled": true
   },
   "outputs": [
    {
     "name": "stdout",
     "output_type": "stream",
     "text": [
      "0.6931472 Accuracy:  0.6666667\n",
      "0.59083295 Accuracy:  1.0\n",
      "0.51551753 Accuracy:  1.0\n",
      "0.4581236 Accuracy:  1.0\n",
      "0.41337994 Accuracy:  1.0\n",
      "0.3776822 Accuracy:  1.0\n",
      "0.3485788 Accuracy:  1.0\n",
      "0.32438615 Accuracy:  1.0\n",
      "0.30392882 Accuracy:  1.0\n",
      "0.28637055 Accuracy:  1.0\n",
      "Prediction: [ True]\n"
     ]
    },
    {
     "data": {
      "image/png": "[encoded data removed]",
      "text/plain": [
       "<Figure size 432x288 with 1 Axes>"
      ]
     },
     "metadata": {
      "needs_background": "light"
     },
     "output_type": "display_data"
    }
   ],
   "source": [
    "x_data = [1, 2, 3]\n",
    "y_data = [0, 0, 1]\n",
    "\n",
    "with tf.Session() as sess:\n",
    "    W = tf.Variable([.0], dtype=tf.float32)\n",
    "    b = tf.Variable([.0], dtype=tf.float32)\n",
    "\n",
    "    x = tf.placeholder(tf.float32)\n",
    "    y = tf.placeholder(tf.float32)\n",
    "    a = 0.05  \n",
    "    H = tf.nn.sigmoid(W*x + b)\n",
    "    cost = - tf.reduce_mean(y * tf.log(H) + (1 - y) * tf.log(1 - H))  \n",
    "\n",
    "    optimizer = tf.train.GradientDescentOptimizer(a) \n",
    "    train = optimizer.minimize(cost) \n",
    "\n",
    "  \n",
    "    predicted = tf.cast(H > 0.5, dtype=tf.float32)\n",
    "    accuracy = tf.reduce_mean(tf.cast(tf.equal(predicted, y), dtype=tf.float32))\n",
    "\n",
    "    sess = tf.Session()\n",
    "    init = tf.global_variables_initializer()\n",
    "    sess.run(init)\n",
    "\n",
    "    for i in range(1000):\n",
    "        c, acc, _ = sess.run([cost, accuracy, train],  {x: x_data, y: y_data})\n",
    "        if i % 100 == 0:\n",
    "            print(c, \"Accuracy: \", acc)\n",
    "            W1, b1 = sess.run([W, b],  {x: x_data, y: y_data})\n",
    "            plt.plot([1, 2, 3], [0, 0, 1], \"ro\")\n",
    "            plt.plot([-b1/(W1+1e-5), -b1/(W1+1e-5)], [0, 1], \"b--\") \n",
    "          \n",
    "          \n",
    "    print('Prediction:', sess.run(H, {x: 4}) > 0.5) "
   ]
  },
  {
   "cell_type": "markdown",
   "metadata": {},
   "source": [
    "## 5. Multi-Variable Logistic Regression"
   ]
  },
  {
   "cell_type": "code",
   "execution_count": 2,
   "metadata": {
    "colab": {
     "base_uri": "https://localhost:8080/",
     "height": 269
    },
    "colab_type": "code",
    "executionInfo": {
     "elapsed": 947,
     "status": "ok",
     "timestamp": 1589151898276,
     "user": {
      "displayName": "지상민",
      "photoUrl": "",
      "userId": "15412183634561194315"
     },
     "user_tz": -540
    },
    "id": "8Usuxztzffp5",
    "outputId": "5bdd05ea-b7ec-4f73-bc85-41f1a8db3023"
   },
   "outputs": [
    {
     "data": {
      "image/png": "[encoded data removed]",
      "text/plain": [
       "<Figure size 432x288 with 1 Axes>"
      ]
     },
     "metadata": {
      "needs_background": "light"
     },
     "output_type": "display_data"
    }
   ],
   "source": [
    "x_data1 = [[0.1, 0.2], [0.2, 0.3], [0.3, 0.2]]\n",
    "x_data2 = [[0.6, 0.3], [0.7, 0.5], [0.8, 0.6]]\n",
    "x_data3 = [[0.3, 0.6], [0.4, 0.7]]\n",
    "for i in range(len(x_data1)):\n",
    "    plt.plot(x_data1[i][0], x_data1[i][1], \"ro\")\n",
    "for i in range(len(x_data2)):\n",
    "    plt.plot(x_data2[i][0], x_data2[i][1], \"bo\")  \n",
    "for i in range(len(x_data3)):\n",
    "    plt.plot(x_data3[i][0], x_data3[i][1], \"yo\")\n",
    "    \n",
    "plt.axis([0, 1, 0, 1])\n",
    "plt.show()"
   ]
  },
  {
   "cell_type": "code",
   "execution_count": 3,
   "metadata": {
    "colab": {
     "base_uri": "https://localhost:8080/",
     "height": 221
    },
    "colab_type": "code",
    "executionInfo": {
     "elapsed": 2304,
     "status": "ok",
     "timestamp": 1589151923986,
     "user": {
      "displayName": "지상민",
      "photoUrl": "",
      "userId": "15412183634561194315"
     },
     "user_tz": -540
    },
    "id": "uJ_svDTdffp_",
    "outputId": "d4669d22-d5e2-41ba-aeda-c86a0fc6b9f5"
   },
   "outputs": [
    {
     "name": "stdout",
     "output_type": "stream",
     "text": [
      "Cost:  1.0986123 Accuracy:  0.375\n",
      "Cost:  0.89973646 Accuracy:  0.75\n",
      "Cost:  0.7639026 Accuracy:  0.875\n",
      "Cost:  0.65993834 Accuracy:  1.0\n",
      "Cost:  0.5784094 Accuracy:  1.0\n",
      "Cost:  0.51309365 Accuracy:  1.0\n",
      "Cost:  0.45981526 Accuracy:  1.0\n",
      "Cost:  0.4156879 Accuracy:  1.0\n",
      "Cost:  0.378658 Accuracy:  1.0\n",
      "Cost:  0.34722656 Accuracy:  1.0\n",
      "[[-3.144557    4.7928476  -1.6482903 ]\n",
      " [-3.043951   -0.61668676  3.6606388 ]] [ 2.593781  -1.6229787 -0.9708057]\n"
     ]
    }
   ],
   "source": [
    "x_data = [[0.1, 0.2], [0.2, 0.3], [0.3, 0.2], [0.6, 0.3], \n",
    " [0.7, 0.5], [0.8, 0.6], [0.3, 0.6], [0.4, 0.7]]\n",
    "y_data = [[1, 0, 0], [1, 0, 0], [1, 0, 0], [0, 1, 0], [0, 1, 0], \n",
    " [0, 1, 0], [0, 0, 1], [0, 0, 1]]\n",
    "\n",
    "with tf.Session() as sess:\n",
    "    x = tf.placeholder(shape=[None, 2], dtype=tf.float32)\n",
    "    y = tf.placeholder(shape=[None, 3], dtype=tf.float32)\n",
    "\n",
    "    W = tf.Variable(tf.zeros([2, 3], tf.float32))\n",
    "    b = tf.Variable(tf.zeros([3], tf.float32))\n",
    "\n",
    "    a = 0.05 \n",
    "    H = tf.nn.softmax(tf.matmul(x, W) + b)\n",
    "    cost = tf.reduce_mean(-tf.reduce_sum(y * tf.log(H), axis=1)) \n",
    "\n",
    "    optimizer = tf.train.GradientDescentOptimizer(a) \n",
    "    train = optimizer.minimize(cost) \n",
    "                \n",
    "    predicted = tf.equal(tf.argmax(H,1), tf.argmax(y,1))\n",
    "    accuracy = tf.reduce_mean(tf.cast(predicted, tf.float32))                \n",
    "\n",
    "    sess = tf.Session()\n",
    "    init = tf.global_variables_initializer()\n",
    "    sess.run(init)\n",
    "\n",
    "    for i in range(2000):\n",
    "        c, acc, _ = sess.run([cost, accuracy, train],\n",
    "                                  {x: x_data, y: y_data})\n",
    "        if i % 200 == 0:\n",
    "            print(\"Cost: \", c, \"Accuracy: \", acc)\n",
    "          \n",
    "    W2, b2 = sess.run([W, b],  {x: x_data, y: y_data})\n",
    "    print(W2, b2)"
   ]
  },
  {
   "cell_type": "code",
   "execution_count": 6,
   "metadata": {
    "colab": {
     "base_uri": "https://localhost:8080/",
     "height": 269
    },
    "colab_type": "code",
    "executionInfo": {
     "elapsed": 707,
     "status": "ok",
     "timestamp": 1589151943102,
     "user": {
      "displayName": "지상민",
      "photoUrl": "",
      "userId": "15412183634561194315"
     },
     "user_tz": -540
    },
    "id": "WtUzVgysffqD",
    "outputId": "47aebd0b-d9eb-4c9a-bf86-7e57dcecf90e"
   },
   "outputs": [
    {
     "data": {
      "image/png": "[encoded data removed]",
      "text/plain": [
       "<Figure size 432x288 with 1 Axes>"
      ]
     },
     "metadata": {
      "needs_background": "light"
     },
     "output_type": "display_data"
    }
   ],
   "source": [
    "x_data1 = [[0.1, 0.2], [0.2, 0.3], [0.3, 0.2]]\n",
    "x_data2 = [[0.6, 0.3], [0.7, 0.5], [0.8, 0.6]]\n",
    "x_data3 = [[0.3, 0.6], [0.4, 0.7]]\n",
    "\n",
    "for i in range(len(x_data1)):\n",
    "    plt.plot(x_data1[i][0], x_data1[i][1], \"ro\")\n",
    "for i in range(len(x_data2)):\n",
    "    plt.plot(x_data2[i][0], x_data2[i][1], \"bo\")  \n",
    "for i in range(len(x_data3)):\n",
    "    plt.plot(x_data3[i][0], x_data3[i][1], \"yo\")   \n",
    "    \n",
    "W2 = [[-3.14455724,  4.79284668, -1.64829016],\n",
    " [-3.04395127, -0.61668688,  3.66063857]]\n",
    "b2 = [ 2.59378099, -1.62297833, -0.97080582]\n",
    "\n",
    "x1 = np.linspace(0,0.9, 20)\n",
    "\n",
    "plt.plot(x1,(W2[0][1]-W2[0][0])/(W2[1][0]-W2[1][1])*x1+\n",
    "         (b2[1]-b2[0])/(W2[1][0]-W2[1][1]), \"g--\") \n",
    "plt.plot(x1,(W2[0][2]-W2[0][0])/(W2[1][0]-W2[1][2])*x1+\n",
    "         (b2[2]-b2[0])/(W2[1][0]-W2[1][2]), \"b--\") \n",
    "plt.plot(x1,(W2[0][1]-W2[0][2])/(W2[1][2]-W2[1][1])*x1+\n",
    "         (b2[1]-b2[2])/(W2[1][2]-W2[1][1]), \"r--\") \n",
    "plt.axis([0, 1, 0, 1])\n",
    "plt.show()    "
   ]
  },
  {
   "cell_type": "markdown",
   "metadata": {
    "colab_type": "text",
    "id": "MMVE03PgffqG"
   },
   "source": [
    "## 6. XOR"
   ]
  },
  {
   "cell_type": "code",
   "execution_count": 7,
   "metadata": {
    "colab": {
     "base_uri": "https://localhost:8080/",
     "height": 357
    },
    "colab_type": "code",
    "executionInfo": {
     "elapsed": 15123,
     "status": "ok",
     "timestamp": 1589152152063,
     "user": {
      "displayName": "지상민",
      "photoUrl": "",
      "userId": "15412183634561194315"
     },
     "user_tz": -540
    },
    "id": "N7O-VZkXffqH",
    "outputId": "c610bae9-6d64-4c48-d1ca-f44cff829a3c"
   },
   "outputs": [
    {
     "name": "stdout",
     "output_type": "stream",
     "text": [
      "Cost:  0.6931472 , Accuracy:  0.5 [[0. 0.]\n",
      " [0. 0.]] [0. 0.]\n",
      "Cost:  0.6931472 , Accuracy:  0.5 [[0. 0.]\n",
      " [0. 0.]] [0. 0.]\n",
      "Cost:  0.6931472 , Accuracy:  0.5 [[0. 0.]\n",
      " [0. 0.]] [0. 0.]\n",
      "Cost:  0.6931472 , Accuracy:  0.5 [[0. 0.]\n",
      " [0. 0.]] [0. 0.]\n",
      "Cost:  0.6931472 , Accuracy:  0.5 [[0. 0.]\n",
      " [0. 0.]] [0. 0.]\n",
      "Cost:  0.6931472 , Accuracy:  0.5 [[0. 0.]\n",
      " [0. 0.]] [0. 0.]\n",
      "Cost:  0.6931472 , Accuracy:  0.5 [[0. 0.]\n",
      " [0. 0.]] [0. 0.]\n",
      "Cost:  0.6931472 , Accuracy:  0.5 [[0. 0.]\n",
      " [0. 0.]] [0. 0.]\n",
      "Cost:  0.6931472 , Accuracy:  0.5 [[0. 0.]\n",
      " [0. 0.]] [0. 0.]\n",
      "Cost:  0.6931472 , Accuracy:  0.5 [[0. 0.]\n",
      " [0. 0.]] [0. 0.]\n"
     ]
    }
   ],
   "source": [
    "x_data = [[0., 0.], [1., 0.], [0., 1.], [1., 1.]]\n",
    "y_data = [[1., 0.], [0., 1.], [0., 1.], [1., 0.]]\n",
    "\n",
    "with tf.Session() as sess:\n",
    "    W = tf.Variable(tf.zeros([2, 2], tf.float32))\n",
    "    b = tf.Variable(tf.zeros([2], tf.float32))\n",
    "\n",
    "    x = tf.placeholder(shape=[None, 2], dtype=tf.float32)\n",
    "    y = tf.placeholder(shape=[None, 2], dtype=tf.float32)\n",
    "\n",
    "    a = 0.01 \n",
    "    H = tf.nn.softmax(tf.matmul(x, W) + b)\n",
    "    cost = tf.reduce_mean(-tf.reduce_sum(y * tf.log(H), axis=1)) #비용함수\n",
    "\n",
    "    optimizer = tf.train.GradientDescentOptimizer(a) \n",
    "    train = optimizer.minimize(cost) \n",
    "                \n",
    "    predicted = tf.equal(tf.argmax(H,1), tf.argmax(y,1))\n",
    "    accuracy = tf.reduce_mean(tf.cast(predicted, tf.float32))                \n",
    "\n",
    "    sess = tf.Session()\n",
    "    init = tf.global_variables_initializer()\n",
    "    sess.run(init)\n",
    "\n",
    "    for i in range(20000):\n",
    "        W1, b1, c, acc, _ = sess.run([W, b, cost, accuracy, train],\n",
    "                                  {x: x_data, y: y_data})\n",
    "        if i % 2000 == 0:\n",
    "            print(\"Cost: \", c, \", Accuracy: \", acc, W1, b1)"
   ]
  }
 ],
 "metadata": {
  "colab": {
   "collapsed_sections": [],
   "name": "MOOC-week9-23.ipynb",
   "provenance": []
  },
  "kernelspec": {
   "display_name": "Python 3",
   "language": "python",
   "name": "python3"
  },
  "language_info": {
   "codemirror_mode": {
    "name": "ipython",
    "version": 3
   },
   "file_extension": ".py",
   "mimetype": "text/x-python",
   "name": "python",
   "nbconvert_exporter": "python",
   "pygments_lexer": "ipython3",
   "version": "3.8.3"
  }
 },
 "nbformat": 4,
 "nbformat_minor": 1
}
